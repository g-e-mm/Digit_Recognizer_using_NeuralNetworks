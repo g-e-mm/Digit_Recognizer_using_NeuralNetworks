{
  "cells": [
    {
      "cell_type": "markdown",
      "metadata": {
        "id": "view-in-github",
        "colab_type": "text"
      },
      "source": [
        "<a href=\"https://colab.research.google.com/github/g-e-mm/Digit_Recognizer_using_NeuralNetworks/blob/main/Digit_Recognizer_using_Neural_Networks.ipynb\" target=\"_parent\"><img src=\"https://colab.research.google.com/assets/colab-badge.svg\" alt=\"Open In Colab\"/></a>"
      ]
    },
    {
      "cell_type": "markdown",
      "source": [
        "# <center><b><u> DIGIT RECOGNIZER WITH NEURAL NETWORKS</u></b></center>\n",
        "\n",
        "---\n",
        "\n"
      ],
      "metadata": {
        "id": "YovO3guCxi0_"
      }
    },
    {
      "cell_type": "markdown",
      "metadata": {
        "id": "qPKLBoD7mY-S"
      },
      "source": [
        "# Introduction"
      ]
    },
    {
      "cell_type": "markdown",
      "source": [
        "<u>**Problem Statement**</u> <br><br>Accurate and efficient digit recognition is a critical component in various applications, including image processing, data entry, and optical character recognition (OCR). However, existing methods often struggle with challenges such as handwritten digit variability, noisy images, and real-world image complexities.\n",
        "\n",
        "This project aims to develop a robust and accurate digit recognition system using deep learning techniques to address these challenges and improve the overall performance of digit classification tasks."
      ],
      "metadata": {
        "id": "S3cbAJHdx8ay"
      }
    },
    {
      "cell_type": "markdown",
      "metadata": {
        "id": "At-6hOKemeO2"
      },
      "source": [
        "<b><u> Approach to Problem </u></b>\n",
        "1. Load Data and Libraries\n",
        "2. Data Visualization\n",
        "3. Divide the data into X (images) and Y (Labels)\n",
        "4. Divide the data into train and test\n",
        "5. Apply ML and Evaluate\n",
        "6. Single Layer Perceptron and Evaluate\n",
        "7. Multilayer Perceptron and Evaluate\n",
        "8. Deep Learning using Tensorflow and Keras\n",
        "\n"
      ]
    },
    {
      "cell_type": "markdown",
      "metadata": {
        "id": "8KcfYTaDmGK7"
      },
      "source": [
        "# Load Data and Libraries\n"
      ]
    },
    {
      "cell_type": "code",
      "execution_count": null,
      "metadata": {
        "colab": {
          "base_uri": "https://localhost:8080/"
        },
        "id": "BPTgcPCwpjxS",
        "outputId": "67f66f40-e480-47e3-aab2-46589a983f39"
      },
      "outputs": [
        {
          "output_type": "stream",
          "name": "stdout",
          "text": [
            "Mounted at /content/drive\n"
          ]
        }
      ],
      "source": [
        "from google.colab import drive\n",
        "drive.mount('/content/drive')"
      ]
    },
    {
      "cell_type": "code",
      "execution_count": null,
      "metadata": {
        "colab": {
          "base_uri": "https://localhost:8080/"
        },
        "id": "VL12ViPsfx9O",
        "outputId": "50a6e59b-18d1-4280-cccc-63b9ee2f4d39"
      },
      "outputs": [
        {
          "output_type": "stream",
          "name": "stdout",
          "text": [
            "Archive:  /content/drive/MyDrive/IMARTICUS/Neural Networks/Digit Recognizer.zip\n",
            "  inflating: sample_submission.csv   \n",
            "  inflating: test.csv                \n",
            "  inflating: train.csv               \n"
          ]
        }
      ],
      "source": [
        "!unzip '/content/drive/MyDrive/IMARTICUS/Neural Networks/Digit Recognizer.zip'"
      ]
    },
    {
      "cell_type": "code",
      "execution_count": null,
      "metadata": {
        "id": "JjXwpr-tmSya"
      },
      "outputs": [],
      "source": [
        "import pandas as pd\n",
        "import numpy as np\n",
        "import matplotlib.pyplot as plt\n",
        "import seaborn as sns\n",
        "from sklearn.model_selection import train_test_split\n",
        "from sklearn.ensemble import RandomForestClassifier , GradientBoostingClassifier\n",
        "from sklearn.metrics import confusion_matrix , accuracy_score , classification_report\n",
        "from sklearn.linear_model import Perceptron\n",
        "from sklearn.neural_network import MLPClassifier"
      ]
    },
    {
      "cell_type": "code",
      "execution_count": null,
      "metadata": {
        "id": "qTdkyxKRoOPT"
      },
      "outputs": [],
      "source": [
        "train = pd.read_csv('/content/train.csv')\n",
        "test = pd.read_csv('/content/test.csv')"
      ]
    },
    {
      "cell_type": "markdown",
      "metadata": {
        "id": "YWb611-gstP0"
      },
      "source": [
        "# Visualization"
      ]
    },
    {
      "cell_type": "code",
      "execution_count": null,
      "metadata": {
        "colab": {
          "base_uri": "https://localhost:8080/",
          "height": 255
        },
        "id": "UUEDmwXMolJ7",
        "outputId": "3c9187ea-2039-4ac7-c6c5-719a1f80f729"
      },
      "outputs": [
        {
          "output_type": "execute_result",
          "data": {
            "text/plain": [
              "   label  pixel0  pixel1  pixel2  pixel3  pixel4  pixel5  pixel6  pixel7  \\\n",
              "0      1       0       0       0       0       0       0       0       0   \n",
              "1      0       0       0       0       0       0       0       0       0   \n",
              "2      1       0       0       0       0       0       0       0       0   \n",
              "3      4       0       0       0       0       0       0       0       0   \n",
              "4      0       0       0       0       0       0       0       0       0   \n",
              "\n",
              "   pixel8  ...  pixel774  pixel775  pixel776  pixel777  pixel778  pixel779  \\\n",
              "0       0  ...         0         0         0         0         0         0   \n",
              "1       0  ...         0         0         0         0         0         0   \n",
              "2       0  ...         0         0         0         0         0         0   \n",
              "3       0  ...         0         0         0         0         0         0   \n",
              "4       0  ...         0         0         0         0         0         0   \n",
              "\n",
              "   pixel780  pixel781  pixel782  pixel783  \n",
              "0         0         0         0         0  \n",
              "1         0         0         0         0  \n",
              "2         0         0         0         0  \n",
              "3         0         0         0         0  \n",
              "4         0         0         0         0  \n",
              "\n",
              "[5 rows x 785 columns]"
            ],
            "text/html": [
              "\n",
              "  <div id=\"df-7a838d83-e0f4-471b-895c-1aed61665eb4\" class=\"colab-df-container\">\n",
              "    <div>\n",
              "<style scoped>\n",
              "    .dataframe tbody tr th:only-of-type {\n",
              "        vertical-align: middle;\n",
              "    }\n",
              "\n",
              "    .dataframe tbody tr th {\n",
              "        vertical-align: top;\n",
              "    }\n",
              "\n",
              "    .dataframe thead th {\n",
              "        text-align: right;\n",
              "    }\n",
              "</style>\n",
              "<table border=\"1\" class=\"dataframe\">\n",
              "  <thead>\n",
              "    <tr style=\"text-align: right;\">\n",
              "      <th></th>\n",
              "      <th>label</th>\n",
              "      <th>pixel0</th>\n",
              "      <th>pixel1</th>\n",
              "      <th>pixel2</th>\n",
              "      <th>pixel3</th>\n",
              "      <th>pixel4</th>\n",
              "      <th>pixel5</th>\n",
              "      <th>pixel6</th>\n",
              "      <th>pixel7</th>\n",
              "      <th>pixel8</th>\n",
              "      <th>...</th>\n",
              "      <th>pixel774</th>\n",
              "      <th>pixel775</th>\n",
              "      <th>pixel776</th>\n",
              "      <th>pixel777</th>\n",
              "      <th>pixel778</th>\n",
              "      <th>pixel779</th>\n",
              "      <th>pixel780</th>\n",
              "      <th>pixel781</th>\n",
              "      <th>pixel782</th>\n",
              "      <th>pixel783</th>\n",
              "    </tr>\n",
              "  </thead>\n",
              "  <tbody>\n",
              "    <tr>\n",
              "      <th>0</th>\n",
              "      <td>1</td>\n",
              "      <td>0</td>\n",
              "      <td>0</td>\n",
              "      <td>0</td>\n",
              "      <td>0</td>\n",
              "      <td>0</td>\n",
              "      <td>0</td>\n",
              "      <td>0</td>\n",
              "      <td>0</td>\n",
              "      <td>0</td>\n",
              "      <td>...</td>\n",
              "      <td>0</td>\n",
              "      <td>0</td>\n",
              "      <td>0</td>\n",
              "      <td>0</td>\n",
              "      <td>0</td>\n",
              "      <td>0</td>\n",
              "      <td>0</td>\n",
              "      <td>0</td>\n",
              "      <td>0</td>\n",
              "      <td>0</td>\n",
              "    </tr>\n",
              "    <tr>\n",
              "      <th>1</th>\n",
              "      <td>0</td>\n",
              "      <td>0</td>\n",
              "      <td>0</td>\n",
              "      <td>0</td>\n",
              "      <td>0</td>\n",
              "      <td>0</td>\n",
              "      <td>0</td>\n",
              "      <td>0</td>\n",
              "      <td>0</td>\n",
              "      <td>0</td>\n",
              "      <td>...</td>\n",
              "      <td>0</td>\n",
              "      <td>0</td>\n",
              "      <td>0</td>\n",
              "      <td>0</td>\n",
              "      <td>0</td>\n",
              "      <td>0</td>\n",
              "      <td>0</td>\n",
              "      <td>0</td>\n",
              "      <td>0</td>\n",
              "      <td>0</td>\n",
              "    </tr>\n",
              "    <tr>\n",
              "      <th>2</th>\n",
              "      <td>1</td>\n",
              "      <td>0</td>\n",
              "      <td>0</td>\n",
              "      <td>0</td>\n",
              "      <td>0</td>\n",
              "      <td>0</td>\n",
              "      <td>0</td>\n",
              "      <td>0</td>\n",
              "      <td>0</td>\n",
              "      <td>0</td>\n",
              "      <td>...</td>\n",
              "      <td>0</td>\n",
              "      <td>0</td>\n",
              "      <td>0</td>\n",
              "      <td>0</td>\n",
              "      <td>0</td>\n",
              "      <td>0</td>\n",
              "      <td>0</td>\n",
              "      <td>0</td>\n",
              "      <td>0</td>\n",
              "      <td>0</td>\n",
              "    </tr>\n",
              "    <tr>\n",
              "      <th>3</th>\n",
              "      <td>4</td>\n",
              "      <td>0</td>\n",
              "      <td>0</td>\n",
              "      <td>0</td>\n",
              "      <td>0</td>\n",
              "      <td>0</td>\n",
              "      <td>0</td>\n",
              "      <td>0</td>\n",
              "      <td>0</td>\n",
              "      <td>0</td>\n",
              "      <td>...</td>\n",
              "      <td>0</td>\n",
              "      <td>0</td>\n",
              "      <td>0</td>\n",
              "      <td>0</td>\n",
              "      <td>0</td>\n",
              "      <td>0</td>\n",
              "      <td>0</td>\n",
              "      <td>0</td>\n",
              "      <td>0</td>\n",
              "      <td>0</td>\n",
              "    </tr>\n",
              "    <tr>\n",
              "      <th>4</th>\n",
              "      <td>0</td>\n",
              "      <td>0</td>\n",
              "      <td>0</td>\n",
              "      <td>0</td>\n",
              "      <td>0</td>\n",
              "      <td>0</td>\n",
              "      <td>0</td>\n",
              "      <td>0</td>\n",
              "      <td>0</td>\n",
              "      <td>0</td>\n",
              "      <td>...</td>\n",
              "      <td>0</td>\n",
              "      <td>0</td>\n",
              "      <td>0</td>\n",
              "      <td>0</td>\n",
              "      <td>0</td>\n",
              "      <td>0</td>\n",
              "      <td>0</td>\n",
              "      <td>0</td>\n",
              "      <td>0</td>\n",
              "      <td>0</td>\n",
              "    </tr>\n",
              "  </tbody>\n",
              "</table>\n",
              "<p>5 rows × 785 columns</p>\n",
              "</div>\n",
              "    <div class=\"colab-df-buttons\">\n",
              "\n",
              "  <div class=\"colab-df-container\">\n",
              "    <button class=\"colab-df-convert\" onclick=\"convertToInteractive('df-7a838d83-e0f4-471b-895c-1aed61665eb4')\"\n",
              "            title=\"Convert this dataframe to an interactive table.\"\n",
              "            style=\"display:none;\">\n",
              "\n",
              "  <svg xmlns=\"http://www.w3.org/2000/svg\" height=\"24px\" viewBox=\"0 -960 960 960\">\n",
              "    <path d=\"M120-120v-720h720v720H120Zm60-500h600v-160H180v160Zm220 220h160v-160H400v160Zm0 220h160v-160H400v160ZM180-400h160v-160H180v160Zm440 0h160v-160H620v160ZM180-180h160v-160H180v160Zm440 0h160v-160H620v160Z\"/>\n",
              "  </svg>\n",
              "    </button>\n",
              "\n",
              "  <style>\n",
              "    .colab-df-container {\n",
              "      display:flex;\n",
              "      gap: 12px;\n",
              "    }\n",
              "\n",
              "    .colab-df-convert {\n",
              "      background-color: #E8F0FE;\n",
              "      border: none;\n",
              "      border-radius: 50%;\n",
              "      cursor: pointer;\n",
              "      display: none;\n",
              "      fill: #1967D2;\n",
              "      height: 32px;\n",
              "      padding: 0 0 0 0;\n",
              "      width: 32px;\n",
              "    }\n",
              "\n",
              "    .colab-df-convert:hover {\n",
              "      background-color: #E2EBFA;\n",
              "      box-shadow: 0px 1px 2px rgba(60, 64, 67, 0.3), 0px 1px 3px 1px rgba(60, 64, 67, 0.15);\n",
              "      fill: #174EA6;\n",
              "    }\n",
              "\n",
              "    .colab-df-buttons div {\n",
              "      margin-bottom: 4px;\n",
              "    }\n",
              "\n",
              "    [theme=dark] .colab-df-convert {\n",
              "      background-color: #3B4455;\n",
              "      fill: #D2E3FC;\n",
              "    }\n",
              "\n",
              "    [theme=dark] .colab-df-convert:hover {\n",
              "      background-color: #434B5C;\n",
              "      box-shadow: 0px 1px 3px 1px rgba(0, 0, 0, 0.15);\n",
              "      filter: drop-shadow(0px 1px 2px rgba(0, 0, 0, 0.3));\n",
              "      fill: #FFFFFF;\n",
              "    }\n",
              "  </style>\n",
              "\n",
              "    <script>\n",
              "      const buttonEl =\n",
              "        document.querySelector('#df-7a838d83-e0f4-471b-895c-1aed61665eb4 button.colab-df-convert');\n",
              "      buttonEl.style.display =\n",
              "        google.colab.kernel.accessAllowed ? 'block' : 'none';\n",
              "\n",
              "      async function convertToInteractive(key) {\n",
              "        const element = document.querySelector('#df-7a838d83-e0f4-471b-895c-1aed61665eb4');\n",
              "        const dataTable =\n",
              "          await google.colab.kernel.invokeFunction('convertToInteractive',\n",
              "                                                    [key], {});\n",
              "        if (!dataTable) return;\n",
              "\n",
              "        const docLinkHtml = 'Like what you see? Visit the ' +\n",
              "          '<a target=\"_blank\" href=https://colab.research.google.com/notebooks/data_table.ipynb>data table notebook</a>'\n",
              "          + ' to learn more about interactive tables.';\n",
              "        element.innerHTML = '';\n",
              "        dataTable['output_type'] = 'display_data';\n",
              "        await google.colab.output.renderOutput(dataTable, element);\n",
              "        const docLink = document.createElement('div');\n",
              "        docLink.innerHTML = docLinkHtml;\n",
              "        element.appendChild(docLink);\n",
              "      }\n",
              "    </script>\n",
              "  </div>\n",
              "\n",
              "\n",
              "<div id=\"df-c722e93f-ea2f-40ee-ae56-8c59f0af0e0c\">\n",
              "  <button class=\"colab-df-quickchart\" onclick=\"quickchart('df-c722e93f-ea2f-40ee-ae56-8c59f0af0e0c')\"\n",
              "            title=\"Suggest charts\"\n",
              "            style=\"display:none;\">\n",
              "\n",
              "<svg xmlns=\"http://www.w3.org/2000/svg\" height=\"24px\"viewBox=\"0 0 24 24\"\n",
              "     width=\"24px\">\n",
              "    <g>\n",
              "        <path d=\"M19 3H5c-1.1 0-2 .9-2 2v14c0 1.1.9 2 2 2h14c1.1 0 2-.9 2-2V5c0-1.1-.9-2-2-2zM9 17H7v-7h2v7zm4 0h-2V7h2v10zm4 0h-2v-4h2v4z\"/>\n",
              "    </g>\n",
              "</svg>\n",
              "  </button>\n",
              "\n",
              "<style>\n",
              "  .colab-df-quickchart {\n",
              "      --bg-color: #E8F0FE;\n",
              "      --fill-color: #1967D2;\n",
              "      --hover-bg-color: #E2EBFA;\n",
              "      --hover-fill-color: #174EA6;\n",
              "      --disabled-fill-color: #AAA;\n",
              "      --disabled-bg-color: #DDD;\n",
              "  }\n",
              "\n",
              "  [theme=dark] .colab-df-quickchart {\n",
              "      --bg-color: #3B4455;\n",
              "      --fill-color: #D2E3FC;\n",
              "      --hover-bg-color: #434B5C;\n",
              "      --hover-fill-color: #FFFFFF;\n",
              "      --disabled-bg-color: #3B4455;\n",
              "      --disabled-fill-color: #666;\n",
              "  }\n",
              "\n",
              "  .colab-df-quickchart {\n",
              "    background-color: var(--bg-color);\n",
              "    border: none;\n",
              "    border-radius: 50%;\n",
              "    cursor: pointer;\n",
              "    display: none;\n",
              "    fill: var(--fill-color);\n",
              "    height: 32px;\n",
              "    padding: 0;\n",
              "    width: 32px;\n",
              "  }\n",
              "\n",
              "  .colab-df-quickchart:hover {\n",
              "    background-color: var(--hover-bg-color);\n",
              "    box-shadow: 0 1px 2px rgba(60, 64, 67, 0.3), 0 1px 3px 1px rgba(60, 64, 67, 0.15);\n",
              "    fill: var(--button-hover-fill-color);\n",
              "  }\n",
              "\n",
              "  .colab-df-quickchart-complete:disabled,\n",
              "  .colab-df-quickchart-complete:disabled:hover {\n",
              "    background-color: var(--disabled-bg-color);\n",
              "    fill: var(--disabled-fill-color);\n",
              "    box-shadow: none;\n",
              "  }\n",
              "\n",
              "  .colab-df-spinner {\n",
              "    border: 2px solid var(--fill-color);\n",
              "    border-color: transparent;\n",
              "    border-bottom-color: var(--fill-color);\n",
              "    animation:\n",
              "      spin 1s steps(1) infinite;\n",
              "  }\n",
              "\n",
              "  @keyframes spin {\n",
              "    0% {\n",
              "      border-color: transparent;\n",
              "      border-bottom-color: var(--fill-color);\n",
              "      border-left-color: var(--fill-color);\n",
              "    }\n",
              "    20% {\n",
              "      border-color: transparent;\n",
              "      border-left-color: var(--fill-color);\n",
              "      border-top-color: var(--fill-color);\n",
              "    }\n",
              "    30% {\n",
              "      border-color: transparent;\n",
              "      border-left-color: var(--fill-color);\n",
              "      border-top-color: var(--fill-color);\n",
              "      border-right-color: var(--fill-color);\n",
              "    }\n",
              "    40% {\n",
              "      border-color: transparent;\n",
              "      border-right-color: var(--fill-color);\n",
              "      border-top-color: var(--fill-color);\n",
              "    }\n",
              "    60% {\n",
              "      border-color: transparent;\n",
              "      border-right-color: var(--fill-color);\n",
              "    }\n",
              "    80% {\n",
              "      border-color: transparent;\n",
              "      border-right-color: var(--fill-color);\n",
              "      border-bottom-color: var(--fill-color);\n",
              "    }\n",
              "    90% {\n",
              "      border-color: transparent;\n",
              "      border-bottom-color: var(--fill-color);\n",
              "    }\n",
              "  }\n",
              "</style>\n",
              "\n",
              "  <script>\n",
              "    async function quickchart(key) {\n",
              "      const quickchartButtonEl =\n",
              "        document.querySelector('#' + key + ' button');\n",
              "      quickchartButtonEl.disabled = true;  // To prevent multiple clicks.\n",
              "      quickchartButtonEl.classList.add('colab-df-spinner');\n",
              "      try {\n",
              "        const charts = await google.colab.kernel.invokeFunction(\n",
              "            'suggestCharts', [key], {});\n",
              "      } catch (error) {\n",
              "        console.error('Error during call to suggestCharts:', error);\n",
              "      }\n",
              "      quickchartButtonEl.classList.remove('colab-df-spinner');\n",
              "      quickchartButtonEl.classList.add('colab-df-quickchart-complete');\n",
              "    }\n",
              "    (() => {\n",
              "      let quickchartButtonEl =\n",
              "        document.querySelector('#df-c722e93f-ea2f-40ee-ae56-8c59f0af0e0c button');\n",
              "      quickchartButtonEl.style.display =\n",
              "        google.colab.kernel.accessAllowed ? 'block' : 'none';\n",
              "    })();\n",
              "  </script>\n",
              "</div>\n",
              "\n",
              "    </div>\n",
              "  </div>\n"
            ],
            "application/vnd.google.colaboratory.intrinsic+json": {
              "type": "dataframe",
              "variable_name": "train"
            }
          },
          "metadata": {},
          "execution_count": 5
        }
      ],
      "source": [
        "train.head()"
      ]
    },
    {
      "cell_type": "code",
      "execution_count": null,
      "metadata": {
        "colab": {
          "base_uri": "https://localhost:8080/"
        },
        "id": "kmVd1Imio8h1",
        "outputId": "7bfa31c8-4ce0-45ae-c181-3bb2466db20e"
      },
      "outputs": [
        {
          "output_type": "stream",
          "name": "stdout",
          "text": [
            "<class 'pandas.core.frame.DataFrame'>\n",
            "RangeIndex: 42000 entries, 0 to 41999\n",
            "Columns: 785 entries, label to pixel783\n",
            "dtypes: int64(785)\n",
            "memory usage: 251.5 MB\n"
          ]
        }
      ],
      "source": [
        "train.info()"
      ]
    },
    {
      "cell_type": "code",
      "execution_count": null,
      "metadata": {
        "colab": {
          "base_uri": "https://localhost:8080/",
          "height": 430
        },
        "id": "dVby5ALgo9ic",
        "outputId": "d2469404-0138-40d3-ebeb-23f39744a776"
      },
      "outputs": [
        {
          "output_type": "display_data",
          "data": {
            "text/plain": [
              "<Figure size 640x480 with 1 Axes>"
            ],
            "image/png": "[encoded data removed]"
          },
          "metadata": {}
        }
      ],
      "source": [
        "features = ['pixel{}'.format(pixel_num) for pixel_num in range(0,784)]\n",
        "row_to_examine = 4\n",
        "image_data = np.reshape(train[features][row_to_examine : row_to_examine+1].to_numpy(), (28,28))\n",
        "_ = plt.imshow(image_data , cmap = 'gray')"
      ]
    },
    {
      "cell_type": "markdown",
      "metadata": {
        "id": "Xokk0F9Xsw6A"
      },
      "source": [
        "# Splitting of Data"
      ]
    },
    {
      "cell_type": "code",
      "execution_count": null,
      "metadata": {
        "id": "Fd9oPAVJrg7f"
      },
      "outputs": [],
      "source": [
        "x = train.drop('label' , axis = 1)\n",
        "y = train['label']"
      ]
    },
    {
      "cell_type": "code",
      "execution_count": null,
      "metadata": {
        "colab": {
          "base_uri": "https://localhost:8080/"
        },
        "id": "sxn6JohZtAMu",
        "outputId": "ca06bb05-c416-4911-f280-0f93b50bf2f1"
      },
      "outputs": [
        {
          "output_type": "stream",
          "name": "stdout",
          "text": [
            "(42000, 784)\n",
            "(42000,)\n"
          ]
        }
      ],
      "source": [
        "print(x.shape)\n",
        "print(y.shape)"
      ]
    },
    {
      "cell_type": "code",
      "execution_count": null,
      "metadata": {
        "id": "rYBGDLLItDL7"
      },
      "outputs": [],
      "source": [
        "x_train , x_test , y_train , y_test = train_test_split(x , y , test_size = 0.2 , random_state = 10)"
      ]
    },
    {
      "cell_type": "code",
      "execution_count": null,
      "metadata": {
        "colab": {
          "base_uri": "https://localhost:8080/"
        },
        "id": "KiAzdBUStPQc",
        "outputId": "004f2fdf-9aeb-470a-ab1f-2ff8c1793bd8"
      },
      "outputs": [
        {
          "output_type": "stream",
          "name": "stdout",
          "text": [
            "(33600, 784)\n",
            "(8400, 784)\n",
            "(33600,)\n",
            "(8400,)\n"
          ]
        }
      ],
      "source": [
        "print(x_train.shape)\n",
        "print(x_test.shape)\n",
        "print(y_train.shape)\n",
        "print(y_test.shape)"
      ]
    },
    {
      "cell_type": "markdown",
      "metadata": {
        "id": "pMO2MyBj6jhE"
      },
      "source": [
        "# Model Evaluation Function"
      ]
    },
    {
      "cell_type": "code",
      "execution_count": null,
      "metadata": {
        "id": "gEevQMI66m4z"
      },
      "outputs": [],
      "source": [
        "def model_eval(actual , predicted):\n",
        "  conf_matrix = confusion_matrix(actual , predicted)\n",
        "  clas_rep = classification_report(actual , predicted)\n",
        "  acc_score = accuracy_score(actual , predicted)\n",
        "\n",
        "  print(\"The Accuracy of the Model is:\" , round(acc_score , 2))\n",
        "  print(conf_matrix)\n",
        "  print(clas_rep)"
      ]
    },
    {
      "cell_type": "markdown",
      "metadata": {
        "id": "Bb6RuXlQ6bRi"
      },
      "source": [
        "# Random Forest Classifier"
      ]
    },
    {
      "cell_type": "code",
      "execution_count": null,
      "metadata": {
        "colab": {
          "base_uri": "https://localhost:8080/"
        },
        "id": "6f4xWG8StYZI",
        "outputId": "65c43ab8-1e76-4ef7-dded-c6d8dba0be89"
      },
      "outputs": [
        {
          "output_type": "execute_result",
          "data": {
            "text/plain": [
              "RandomForestClassifier()"
            ],
            "text/html": [
              "<style>#sk-container-id-1 {color: black;}#sk-container-id-1 pre{padding: 0;}#sk-container-id-1 div.sk-toggleable {background-color: white;}#sk-container-id-1 label.sk-toggleable__label {cursor: pointer;display: block;width: 100%;margin-bottom: 0;padding: 0.3em;box-sizing: border-box;text-align: center;}#sk-container-id-1 label.sk-toggleable__label-arrow:before {content: \"▸\";float: left;margin-right: 0.25em;color: #696969;}#sk-container-id-1 label.sk-toggleable__label-arrow:hover:before {color: black;}#sk-container-id-1 div.sk-estimator:hover label.sk-toggleable__label-arrow:before {color: black;}#sk-container-id-1 div.sk-toggleable__content {max-height: 0;max-width: 0;overflow: hidden;text-align: left;background-color: #f0f8ff;}#sk-container-id-1 div.sk-toggleable__content pre {margin: 0.2em;color: black;border-radius: 0.25em;background-color: #f0f8ff;}#sk-container-id-1 input.sk-toggleable__control:checked~div.sk-toggleable__content {max-height: 200px;max-width: 100%;overflow: auto;}#sk-container-id-1 input.sk-toggleable__control:checked~label.sk-toggleable__label-arrow:before {content: \"▾\";}#sk-container-id-1 div.sk-estimator input.sk-toggleable__control:checked~label.sk-toggleable__label {background-color: #d4ebff;}#sk-container-id-1 div.sk-label input.sk-toggleable__control:checked~label.sk-toggleable__label {background-color: #d4ebff;}#sk-container-id-1 input.sk-hidden--visually {border: 0;clip: rect(1px 1px 1px 1px);clip: rect(1px, 1px, 1px, 1px);height: 1px;margin: -1px;overflow: hidden;padding: 0;position: absolute;width: 1px;}#sk-container-id-1 div.sk-estimator {font-family: monospace;background-color: #f0f8ff;border: 1px dotted black;border-radius: 0.25em;box-sizing: border-box;margin-bottom: 0.5em;}#sk-container-id-1 div.sk-estimator:hover {background-color: #d4ebff;}#sk-container-id-1 div.sk-parallel-item::after {content: \"\";width: 100%;border-bottom: 1px solid gray;flex-grow: 1;}#sk-container-id-1 div.sk-label:hover label.sk-toggleable__label {background-color: #d4ebff;}#sk-container-id-1 div.sk-serial::before {content: \"\";position: absolute;border-left: 1px solid gray;box-sizing: border-box;top: 0;bottom: 0;left: 50%;z-index: 0;}#sk-container-id-1 div.sk-serial {display: flex;flex-direction: column;align-items: center;background-color: white;padding-right: 0.2em;padding-left: 0.2em;position: relative;}#sk-container-id-1 div.sk-item {position: relative;z-index: 1;}#sk-container-id-1 div.sk-parallel {display: flex;align-items: stretch;justify-content: center;background-color: white;position: relative;}#sk-container-id-1 div.sk-item::before, #sk-container-id-1 div.sk-parallel-item::before {content: \"\";position: absolute;border-left: 1px solid gray;box-sizing: border-box;top: 0;bottom: 0;left: 50%;z-index: -1;}#sk-container-id-1 div.sk-parallel-item {display: flex;flex-direction: column;z-index: 1;position: relative;background-color: white;}#sk-container-id-1 div.sk-parallel-item:first-child::after {align-self: flex-end;width: 50%;}#sk-container-id-1 div.sk-parallel-item:last-child::after {align-self: flex-start;width: 50%;}#sk-container-id-1 div.sk-parallel-item:only-child::after {width: 0;}#sk-container-id-1 div.sk-dashed-wrapped {border: 1px dashed gray;margin: 0 0.4em 0.5em 0.4em;box-sizing: border-box;padding-bottom: 0.4em;background-color: white;}#sk-container-id-1 div.sk-label label {font-family: monospace;font-weight: bold;display: inline-block;line-height: 1.2em;}#sk-container-id-1 div.sk-label-container {text-align: center;}#sk-container-id-1 div.sk-container {/* jupyter's `normalize.less` sets `[hidden] { display: none; }` but bootstrap.min.css set `[hidden] { display: none !important; }` so we also need the `!important` here to be able to override the default hidden behavior on the sphinx rendered scikit-learn.org. See: https://github.com/scikit-learn/scikit-learn/issues/21755 */display: inline-block !important;position: relative;}#sk-container-id-1 div.sk-text-repr-fallback {display: none;}</style><div id=\"sk-container-id-1\" class=\"sk-top-container\"><div class=\"sk-text-repr-fallback\"><pre>RandomForestClassifier()</pre><b>In a Jupyter environment, please rerun this cell to show the HTML representation or trust the notebook. <br />On GitHub, the HTML representation is unable to render, please try loading this page with nbviewer.org.</b></div><div class=\"sk-container\" hidden><div class=\"sk-item\"><div class=\"sk-estimator sk-toggleable\"><input class=\"sk-toggleable__control sk-hidden--visually\" id=\"sk-estimator-id-1\" type=\"checkbox\" checked><label for=\"sk-estimator-id-1\" class=\"sk-toggleable__label sk-toggleable__label-arrow\">RandomForestClassifier</label><div class=\"sk-toggleable__content\"><pre>RandomForestClassifier()</pre></div></div></div></div></div>"
            ]
          },
          "metadata": {},
          "execution_count": 13
        }
      ],
      "source": [
        "rf = RandomForestClassifier()\n",
        "\n",
        "#Fit the Model\n",
        "rf.fit(x_train , y_train)"
      ]
    },
    {
      "cell_type": "code",
      "execution_count": null,
      "metadata": {
        "id": "Sed0_Lt461Ts"
      },
      "outputs": [],
      "source": [
        "y_hat_train_rf = rf.predict(x_train)\n",
        "y_hat_test_rf = rf.predict(x_test)"
      ]
    },
    {
      "cell_type": "code",
      "execution_count": null,
      "metadata": {
        "colab": {
          "base_uri": "https://localhost:8080/"
        },
        "id": "AOw17P6F6d9V",
        "outputId": "5749760b-a3b8-432c-854f-757e7d850ee8"
      },
      "outputs": [
        {
          "output_type": "stream",
          "name": "stdout",
          "text": [
            "The Accuracy of the Model is: 1.0\n",
            "[[3336    0    0    0    0    0    0    0    0    0]\n",
            " [   0 3738    0    0    0    0    0    0    0    0]\n",
            " [   0    0 3321    0    0    0    0    0    0    0]\n",
            " [   0    0    0 3495    0    0    0    0    0    0]\n",
            " [   0    0    0    0 3246    0    0    0    0    0]\n",
            " [   0    0    0    0    0 3022    0    0    0    0]\n",
            " [   0    0    0    0    0    0 3350    0    0    0]\n",
            " [   0    0    0    0    0    0    0 3532    0    0]\n",
            " [   0    0    0    0    0    0    0    0 3227    0]\n",
            " [   0    0    0    0    0    0    0    0    0 3333]]\n",
            "              precision    recall  f1-score   support\n",
            "\n",
            "           0       1.00      1.00      1.00      3336\n",
            "           1       1.00      1.00      1.00      3738\n",
            "           2       1.00      1.00      1.00      3321\n",
            "           3       1.00      1.00      1.00      3495\n",
            "           4       1.00      1.00      1.00      3246\n",
            "           5       1.00      1.00      1.00      3022\n",
            "           6       1.00      1.00      1.00      3350\n",
            "           7       1.00      1.00      1.00      3532\n",
            "           8       1.00      1.00      1.00      3227\n",
            "           9       1.00      1.00      1.00      3333\n",
            "\n",
            "    accuracy                           1.00     33600\n",
            "   macro avg       1.00      1.00      1.00     33600\n",
            "weighted avg       1.00      1.00      1.00     33600\n",
            "\n"
          ]
        }
      ],
      "source": [
        "model_eval(y_train , y_hat_train_rf)"
      ]
    },
    {
      "cell_type": "code",
      "execution_count": null,
      "metadata": {
        "colab": {
          "base_uri": "https://localhost:8080/"
        },
        "id": "H1vSjky56pQi",
        "outputId": "8bb67820-76f0-4330-ab44-b061205cfdec"
      },
      "outputs": [
        {
          "output_type": "stream",
          "name": "stdout",
          "text": [
            "The Accuracy of the Model is: 0.97\n",
            "[[785   0   1   0   1   2   2   0   4   1]\n",
            " [  0 928   6   3   2   2   1   2   2   0]\n",
            " [  4   1 825   0   7   1   6   5   7   0]\n",
            " [  1   1  10 819   0  12   1   2   9   1]\n",
            " [  0   1   1   0 814   0   4   1   0   5]\n",
            " [  3   1   0  11   1 742   6   0   6   3]\n",
            " [  5   2   1   0   3   2 769   0   5   0]\n",
            " [  0   4  11   2   5   0   0 836   1  10]\n",
            " [  0   7  10   9   5  10   3   0 783   9]\n",
            " [  4   0   1  13   9   3   0   7   6 812]]\n",
            "              precision    recall  f1-score   support\n",
            "\n",
            "           0       0.98      0.99      0.98       796\n",
            "           1       0.98      0.98      0.98       946\n",
            "           2       0.95      0.96      0.96       856\n",
            "           3       0.96      0.96      0.96       856\n",
            "           4       0.96      0.99      0.97       826\n",
            "           5       0.96      0.96      0.96       773\n",
            "           6       0.97      0.98      0.97       787\n",
            "           7       0.98      0.96      0.97       869\n",
            "           8       0.95      0.94      0.94       836\n",
            "           9       0.97      0.95      0.96       855\n",
            "\n",
            "    accuracy                           0.97      8400\n",
            "   macro avg       0.97      0.97      0.97      8400\n",
            "weighted avg       0.97      0.97      0.97      8400\n",
            "\n"
          ]
        }
      ],
      "source": [
        "model_eval(y_test , y_hat_test_rf)"
      ]
    },
    {
      "cell_type": "markdown",
      "metadata": {
        "id": "Ya6OHz9J7Sat"
      },
      "source": [
        "# Gradient Boosting Classifier"
      ]
    },
    {
      "cell_type": "code",
      "execution_count": null,
      "metadata": {
        "id": "mzQNButU6xQ0",
        "colab": {
          "base_uri": "https://localhost:8080/",
          "height": 74
        },
        "outputId": "c9e5d501-7dd4-4020-8671-e94485dcf7fb"
      },
      "outputs": [
        {
          "output_type": "execute_result",
          "data": {
            "text/plain": [
              "GradientBoostingClassifier(n_estimators=50)"
            ],
            "text/html": [
              "<style>#sk-container-id-2 {color: black;}#sk-container-id-2 pre{padding: 0;}#sk-container-id-2 div.sk-toggleable {background-color: white;}#sk-container-id-2 label.sk-toggleable__label {cursor: pointer;display: block;width: 100%;margin-bottom: 0;padding: 0.3em;box-sizing: border-box;text-align: center;}#sk-container-id-2 label.sk-toggleable__label-arrow:before {content: \"▸\";float: left;margin-right: 0.25em;color: #696969;}#sk-container-id-2 label.sk-toggleable__label-arrow:hover:before {color: black;}#sk-container-id-2 div.sk-estimator:hover label.sk-toggleable__label-arrow:before {color: black;}#sk-container-id-2 div.sk-toggleable__content {max-height: 0;max-width: 0;overflow: hidden;text-align: left;background-color: #f0f8ff;}#sk-container-id-2 div.sk-toggleable__content pre {margin: 0.2em;color: black;border-radius: 0.25em;background-color: #f0f8ff;}#sk-container-id-2 input.sk-toggleable__control:checked~div.sk-toggleable__content {max-height: 200px;max-width: 100%;overflow: auto;}#sk-container-id-2 input.sk-toggleable__control:checked~label.sk-toggleable__label-arrow:before {content: \"▾\";}#sk-container-id-2 div.sk-estimator input.sk-toggleable__control:checked~label.sk-toggleable__label {background-color: #d4ebff;}#sk-container-id-2 div.sk-label input.sk-toggleable__control:checked~label.sk-toggleable__label {background-color: #d4ebff;}#sk-container-id-2 input.sk-hidden--visually {border: 0;clip: rect(1px 1px 1px 1px);clip: rect(1px, 1px, 1px, 1px);height: 1px;margin: -1px;overflow: hidden;padding: 0;position: absolute;width: 1px;}#sk-container-id-2 div.sk-estimator {font-family: monospace;background-color: #f0f8ff;border: 1px dotted black;border-radius: 0.25em;box-sizing: border-box;margin-bottom: 0.5em;}#sk-container-id-2 div.sk-estimator:hover {background-color: #d4ebff;}#sk-container-id-2 div.sk-parallel-item::after {content: \"\";width: 100%;border-bottom: 1px solid gray;flex-grow: 1;}#sk-container-id-2 div.sk-label:hover label.sk-toggleable__label {background-color: #d4ebff;}#sk-container-id-2 div.sk-serial::before {content: \"\";position: absolute;border-left: 1px solid gray;box-sizing: border-box;top: 0;bottom: 0;left: 50%;z-index: 0;}#sk-container-id-2 div.sk-serial {display: flex;flex-direction: column;align-items: center;background-color: white;padding-right: 0.2em;padding-left: 0.2em;position: relative;}#sk-container-id-2 div.sk-item {position: relative;z-index: 1;}#sk-container-id-2 div.sk-parallel {display: flex;align-items: stretch;justify-content: center;background-color: white;position: relative;}#sk-container-id-2 div.sk-item::before, #sk-container-id-2 div.sk-parallel-item::before {content: \"\";position: absolute;border-left: 1px solid gray;box-sizing: border-box;top: 0;bottom: 0;left: 50%;z-index: -1;}#sk-container-id-2 div.sk-parallel-item {display: flex;flex-direction: column;z-index: 1;position: relative;background-color: white;}#sk-container-id-2 div.sk-parallel-item:first-child::after {align-self: flex-end;width: 50%;}#sk-container-id-2 div.sk-parallel-item:last-child::after {align-self: flex-start;width: 50%;}#sk-container-id-2 div.sk-parallel-item:only-child::after {width: 0;}#sk-container-id-2 div.sk-dashed-wrapped {border: 1px dashed gray;margin: 0 0.4em 0.5em 0.4em;box-sizing: border-box;padding-bottom: 0.4em;background-color: white;}#sk-container-id-2 div.sk-label label {font-family: monospace;font-weight: bold;display: inline-block;line-height: 1.2em;}#sk-container-id-2 div.sk-label-container {text-align: center;}#sk-container-id-2 div.sk-container {/* jupyter's `normalize.less` sets `[hidden] { display: none; }` but bootstrap.min.css set `[hidden] { display: none !important; }` so we also need the `!important` here to be able to override the default hidden behavior on the sphinx rendered scikit-learn.org. See: https://github.com/scikit-learn/scikit-learn/issues/21755 */display: inline-block !important;position: relative;}#sk-container-id-2 div.sk-text-repr-fallback {display: none;}</style><div id=\"sk-container-id-2\" class=\"sk-top-container\"><div class=\"sk-text-repr-fallback\"><pre>GradientBoostingClassifier(n_estimators=50)</pre><b>In a Jupyter environment, please rerun this cell to show the HTML representation or trust the notebook. <br />On GitHub, the HTML representation is unable to render, please try loading this page with nbviewer.org.</b></div><div class=\"sk-container\" hidden><div class=\"sk-item\"><div class=\"sk-estimator sk-toggleable\"><input class=\"sk-toggleable__control sk-hidden--visually\" id=\"sk-estimator-id-2\" type=\"checkbox\" checked><label for=\"sk-estimator-id-2\" class=\"sk-toggleable__label sk-toggleable__label-arrow\">GradientBoostingClassifier</label><div class=\"sk-toggleable__content\"><pre>GradientBoostingClassifier(n_estimators=50)</pre></div></div></div></div></div>"
            ]
          },
          "metadata": {},
          "execution_count": 17
        }
      ],
      "source": [
        "gb = GradientBoostingClassifier(n_estimators = 50)\n",
        "\n",
        "gb.fit(x_train, y_train)"
      ]
    },
    {
      "cell_type": "code",
      "execution_count": null,
      "metadata": {
        "id": "bA4lU5sQ7Z2o"
      },
      "outputs": [],
      "source": [
        "y_hat_train_gb = gb.predict(x_train)\n",
        "y_hat_test_gb = gb.predict(x_test)"
      ]
    },
    {
      "cell_type": "code",
      "execution_count": null,
      "metadata": {
        "id": "ci4xxU-g7buM",
        "colab": {
          "base_uri": "https://localhost:8080/"
        },
        "outputId": "0239132c-a693-4811-dc2b-6e558cfe1663"
      },
      "outputs": [
        {
          "output_type": "stream",
          "name": "stdout",
          "text": [
            "The Accuracy of the Model is: 0.94\n",
            "[[3267    0    4    6    5    3   13    2   35    1]\n",
            " [   1 3670   10   14    5    4   11    5   14    4]\n",
            " [  21   14 3094   44   31    4   14   40   44   15]\n",
            " [   8   21   63 3163    7   74    7   40   71   41]\n",
            " [   7    9   13    3 3038    6   17   10   20  123]\n",
            " [  35   15    8   90   20 2738   41    6   38   31]\n",
            " [  27    5    6    2   25   60 3191    2   32    0]\n",
            " [  13   22   48   15   29    7    0 3300    9   89]\n",
            " [  12   37   19   67   12   27   12    8 2970   63]\n",
            " [  15   12    9   44   97   14    1   78   30 3033]]\n",
            "              precision    recall  f1-score   support\n",
            "\n",
            "           0       0.96      0.98      0.97      3336\n",
            "           1       0.96      0.98      0.97      3738\n",
            "           2       0.95      0.93      0.94      3321\n",
            "           3       0.92      0.91      0.91      3495\n",
            "           4       0.93      0.94      0.93      3246\n",
            "           5       0.93      0.91      0.92      3022\n",
            "           6       0.96      0.95      0.96      3350\n",
            "           7       0.95      0.93      0.94      3532\n",
            "           8       0.91      0.92      0.92      3227\n",
            "           9       0.89      0.91      0.90      3333\n",
            "\n",
            "    accuracy                           0.94     33600\n",
            "   macro avg       0.94      0.94      0.94     33600\n",
            "weighted avg       0.94      0.94      0.94     33600\n",
            "\n"
          ]
        }
      ],
      "source": [
        "model_eval(y_train , y_hat_train_gb)"
      ]
    },
    {
      "cell_type": "code",
      "execution_count": null,
      "metadata": {
        "id": "cWQSUTBP7eU7",
        "colab": {
          "base_uri": "https://localhost:8080/"
        },
        "outputId": "b4ec75d9-f906-4d69-9e1c-7d8b0f68343d"
      },
      "outputs": [
        {
          "output_type": "stream",
          "name": "stdout",
          "text": [
            "The Accuracy of the Model is: 0.92\n",
            "[[773   0   0   3   3   3   1   0  12   1]\n",
            " [  0 925   6   1   3   0   6   1   3   1]\n",
            " [  9   5 778   6  16   2   9  10  21   0]\n",
            " [  5   1  13 774   0  23   6   6  16  12]\n",
            " [  1   4   4   2 788   0   4   2   4  17]\n",
            " [  6   5   2  23  10 673  12   2  21  19]\n",
            " [  9   4   3   0   7  17 735   1  11   0]\n",
            " [  2   3  11   3  16   1   0 803   2  28]\n",
            " [  3  18   9  21   8  16   6   1 730  24]\n",
            " [  4   0   1  15  24   5   0  23   8 775]]\n",
            "              precision    recall  f1-score   support\n",
            "\n",
            "           0       0.95      0.97      0.96       796\n",
            "           1       0.96      0.98      0.97       946\n",
            "           2       0.94      0.91      0.92       856\n",
            "           3       0.91      0.90      0.91       856\n",
            "           4       0.90      0.95      0.93       826\n",
            "           5       0.91      0.87      0.89       773\n",
            "           6       0.94      0.93      0.94       787\n",
            "           7       0.95      0.92      0.93       869\n",
            "           8       0.88      0.87      0.88       836\n",
            "           9       0.88      0.91      0.89       855\n",
            "\n",
            "    accuracy                           0.92      8400\n",
            "   macro avg       0.92      0.92      0.92      8400\n",
            "weighted avg       0.92      0.92      0.92      8400\n",
            "\n"
          ]
        }
      ],
      "source": [
        "model_eval(y_test , y_hat_test_gb)"
      ]
    },
    {
      "cell_type": "markdown",
      "source": [
        "# Perceptron"
      ],
      "metadata": {
        "id": "lvwFpAmJ3ijl"
      }
    },
    {
      "cell_type": "markdown",
      "source": [
        "**Single Layer Perceptron**<br>\n",
        "A Single Layer Perceptron is the simplest type of artificial neural network, consisting of an input layer and an output layer.\n",
        "\n",
        "* Linear Classifier: It can only classify linearly separable data.\n",
        "* Binary Classification: Typically used for binary classification tasks (e.g., yes/no, true/false).<br>\n",
        "* Limitations: Limited to simple problems due to its inability to handle complex patterns.<br>\n",
        "* Basic Building Block: Serves as a foundational concept for understanding more complex neural networks.<br>\n",
        "* The weights of the perceptron are updated using the perceptron learning rule to minimize errors.<br>\n"
      ],
      "metadata": {
        "id": "R325hAcpyVjq"
      }
    },
    {
      "cell_type": "code",
      "source": [
        "per = Perceptron()\n",
        "per.fit(x_train , y_train)\n",
        "y_hat_test_per=per.predict(x_test)\n",
        "y_hat_train_per=per.predict(x_train)"
      ],
      "metadata": {
        "id": "_Bn0VAH73mJn"
      },
      "execution_count": null,
      "outputs": []
    },
    {
      "cell_type": "code",
      "source": [
        "model_eval(y_train , y_hat_train_per)"
      ],
      "metadata": {
        "colab": {
          "base_uri": "https://localhost:8080/"
        },
        "id": "sHOKFg2g8BLR",
        "outputId": "bd61b4d8-734f-468d-e2a4-ee6959557613"
      },
      "execution_count": null,
      "outputs": [
        {
          "output_type": "stream",
          "name": "stdout",
          "text": [
            "The Accuracy of the Model is: 0.89\n",
            "[[3245    0    8    3    5    5   35    0   34    1]\n",
            " [   0 3661   13    3    3    2    6    3   42    5]\n",
            " [  13   53 2871   25   31    5  125   32  157    9]\n",
            " [  13   39  131 2889   16   38   57   25  247   40]\n",
            " [   4   14   10    0 3035    7   50    8   54   64]\n",
            " [  28   27   19  193   50 2188  198   11  272   36]\n",
            " [  14    6    2    0   10   16 3288    0   14    0]\n",
            " [  12   22   43    3   48    4    5 3214   39  142]\n",
            " [  18   97   25   36   37   75   51   10 2841   37]\n",
            " [  19   15   21   29  263   41    6  138  137 2664]]\n",
            "              precision    recall  f1-score   support\n",
            "\n",
            "           0       0.96      0.97      0.97      3336\n",
            "           1       0.93      0.98      0.95      3738\n",
            "           2       0.91      0.86      0.89      3321\n",
            "           3       0.91      0.83      0.87      3495\n",
            "           4       0.87      0.93      0.90      3246\n",
            "           5       0.92      0.72      0.81      3022\n",
            "           6       0.86      0.98      0.92      3350\n",
            "           7       0.93      0.91      0.92      3532\n",
            "           8       0.74      0.88      0.80      3227\n",
            "           9       0.89      0.80      0.84      3333\n",
            "\n",
            "    accuracy                           0.89     33600\n",
            "   macro avg       0.89      0.89      0.89     33600\n",
            "weighted avg       0.89      0.89      0.89     33600\n",
            "\n"
          ]
        }
      ]
    },
    {
      "cell_type": "markdown",
      "source": [
        "# Multi Layer Perceptron"
      ],
      "metadata": {
        "id": "0cylhMAkXBWW"
      }
    },
    {
      "cell_type": "markdown",
      "source": [
        "**Multi-Layer Perceptron (MLP)**\n",
        "An MLP is a feedforward artificial neural network with multiple layers, including an input layer, one or more hidden layers, and an output layer.\n",
        "\n",
        "* Non-linear Classification: Can handle complex, non-linearly separable data.<br>\n",
        "* Backpropagation: Uses the backpropagation algorithm to train the network by adjusting weights based on the error.<br>\n",
        "* Universal Approximation Theorem: MLPs can approximate any continuous function with sufficient hidden units.<br>\n",
        "* Overfitting: Prone to overfitting if not regularized properly.<br>\n",
        "* Widely Used: A fundamental building block for many deep learning architectures."
      ],
      "metadata": {
        "id": "ffDzAaBryjUL"
      }
    },
    {
      "cell_type": "code",
      "source": [
        "mlp = MLPClassifier(hidden_layer_sizes=(32,32,32), random_state=20, verbose=1)\n",
        "mlp.fit(x_train, y_train)\n",
        "y_hat_train_mlp = mlp.predict(x_train)\n",
        "y_hat_test_mlp = mlp.predict(x_test)"
      ],
      "metadata": {
        "colab": {
          "base_uri": "https://localhost:8080/"
        },
        "id": "WgeVg4leXQRy",
        "outputId": "59bab848-49c9-4bff-f209-f285041ce098"
      },
      "execution_count": null,
      "outputs": [
        {
          "output_type": "stream",
          "name": "stdout",
          "text": [
            "Iteration 1, loss = 3.29294524\n",
            "Iteration 2, loss = 0.75301912\n",
            "Iteration 3, loss = 0.52795344\n",
            "Iteration 4, loss = 0.42614440\n",
            "Iteration 5, loss = 0.36145375\n",
            "Iteration 6, loss = 0.32234693\n",
            "Iteration 7, loss = 0.28830756\n",
            "Iteration 8, loss = 0.26578685\n",
            "Iteration 9, loss = 0.23981366\n",
            "Iteration 10, loss = 0.22168303\n",
            "Iteration 11, loss = 0.21339182\n",
            "Iteration 12, loss = 0.19862708\n",
            "Iteration 13, loss = 0.18369593\n",
            "Iteration 14, loss = 0.17574910\n",
            "Iteration 15, loss = 0.17027756\n",
            "Iteration 16, loss = 0.15998234\n",
            "Iteration 17, loss = 0.15349563\n",
            "Iteration 18, loss = 0.14920068\n",
            "Iteration 19, loss = 0.14361712\n",
            "Iteration 20, loss = 0.14145209\n",
            "Iteration 21, loss = 0.13279992\n",
            "Iteration 22, loss = 0.13371411\n",
            "Iteration 23, loss = 0.12700284\n",
            "Iteration 24, loss = 0.11916659\n",
            "Iteration 25, loss = 0.11284599\n",
            "Iteration 26, loss = 0.10860614\n",
            "Iteration 27, loss = 0.10813824\n",
            "Iteration 28, loss = 0.10090281\n",
            "Iteration 29, loss = 0.10044453\n",
            "Iteration 30, loss = 0.10205515\n",
            "Iteration 31, loss = 0.09484694\n",
            "Iteration 32, loss = 0.09606568\n",
            "Iteration 33, loss = 0.09607309\n",
            "Iteration 34, loss = 0.08399836\n",
            "Iteration 35, loss = 0.08342667\n",
            "Iteration 36, loss = 0.07641666\n",
            "Iteration 37, loss = 0.07355580\n",
            "Iteration 38, loss = 0.07272940\n",
            "Iteration 39, loss = 0.07803334\n",
            "Iteration 40, loss = 0.07484574\n",
            "Iteration 41, loss = 0.06999470\n",
            "Iteration 42, loss = 0.06747783\n",
            "Iteration 43, loss = 0.06563787\n",
            "Iteration 44, loss = 0.06443430\n",
            "Iteration 45, loss = 0.06211467\n",
            "Iteration 46, loss = 0.06125534\n",
            "Iteration 47, loss = 0.06169231\n",
            "Iteration 48, loss = 0.05956747\n",
            "Iteration 49, loss = 0.05492173\n",
            "Iteration 50, loss = 0.05115376\n",
            "Iteration 51, loss = 0.05267365\n",
            "Iteration 52, loss = 0.05431158\n",
            "Iteration 53, loss = 0.05203356\n",
            "Iteration 54, loss = 0.04910279\n",
            "Iteration 55, loss = 0.06329693\n",
            "Iteration 56, loss = 0.05171280\n",
            "Iteration 57, loss = 0.05104451\n",
            "Iteration 58, loss = 0.04796412\n",
            "Iteration 59, loss = 0.04482966\n",
            "Iteration 60, loss = 0.04333928\n",
            "Iteration 61, loss = 0.04156045\n",
            "Iteration 62, loss = 0.04992607\n",
            "Iteration 63, loss = 0.04786507\n",
            "Iteration 64, loss = 0.04690224\n",
            "Iteration 65, loss = 0.04716846\n",
            "Iteration 66, loss = 0.03634590\n",
            "Iteration 67, loss = 0.03831177\n",
            "Iteration 68, loss = 0.04091310\n",
            "Iteration 69, loss = 0.03970118\n",
            "Iteration 70, loss = 0.03911976\n",
            "Iteration 71, loss = 0.03763251\n",
            "Iteration 72, loss = 0.04429292\n",
            "Iteration 73, loss = 0.03602807\n",
            "Iteration 74, loss = 0.02947008\n",
            "Iteration 75, loss = 0.02963400\n",
            "Iteration 76, loss = 0.03381660\n",
            "Iteration 77, loss = 0.03206871\n",
            "Iteration 78, loss = 0.03401487\n",
            "Iteration 79, loss = 0.03797066\n",
            "Iteration 80, loss = 0.04117222\n",
            "Iteration 81, loss = 0.04515307\n",
            "Iteration 82, loss = 0.03545092\n",
            "Iteration 83, loss = 0.03446831\n",
            "Iteration 84, loss = 0.02544160\n",
            "Iteration 85, loss = 0.02483608\n",
            "Iteration 86, loss = 0.02417757\n",
            "Iteration 87, loss = 0.02891109\n",
            "Iteration 88, loss = 0.04150331\n",
            "Iteration 89, loss = 0.04291045\n",
            "Iteration 90, loss = 0.03922612\n",
            "Iteration 91, loss = 0.03282702\n",
            "Iteration 92, loss = 0.02709340\n",
            "Iteration 93, loss = 0.02598634\n",
            "Iteration 94, loss = 0.01939254\n",
            "Iteration 95, loss = 0.03049872\n",
            "Iteration 96, loss = 0.03338076\n",
            "Iteration 97, loss = 0.03187312\n",
            "Iteration 98, loss = 0.02556075\n",
            "Iteration 99, loss = 0.03605241\n",
            "Iteration 100, loss = 0.02579577\n",
            "Iteration 101, loss = 0.02793347\n",
            "Iteration 102, loss = 0.02793844\n",
            "Iteration 103, loss = 0.02824451\n",
            "Iteration 104, loss = 0.02758366\n",
            "Iteration 105, loss = 0.02068141\n",
            "Training loss did not improve more than tol=0.000100 for 10 consecutive epochs. Stopping.\n"
          ]
        }
      ]
    },
    {
      "cell_type": "code",
      "source": [
        "model_eval(y_train , y_hat_train_mlp)\n"
      ],
      "metadata": {
        "colab": {
          "base_uri": "https://localhost:8080/"
        },
        "id": "bKsqXTJ2eYAg",
        "outputId": "cd9c4a23-38fa-475c-d9e7-8d8bc64beadc"
      },
      "execution_count": null,
      "outputs": [
        {
          "output_type": "stream",
          "name": "stdout",
          "text": [
            "The Accuracy of the Model is: 0.99\n",
            "[[3325    0    0    1    2    0    1    1    4    2]\n",
            " [   0 3726    2    2    0    1    1    1    4    1]\n",
            " [   3    1 3297    6    2    0    0    6    3    3]\n",
            " [   0    0    5 3474    0    3    0    0    5    8]\n",
            " [   0    0    0    0 3231    0    0    1    0   14]\n",
            " [   2    0    3    8    1 2998    4    1    1    4]\n",
            " [   5    0    0    0    8    5 3331    0    1    0]\n",
            " [   0    1    1    4    1    0    0 3523    0    2]\n",
            " [   1    0    3   25    4    0    0    0 3189    5]\n",
            " [   1    0    0   19    3    1    0   10    8 3291]]\n",
            "              precision    recall  f1-score   support\n",
            "\n",
            "           0       1.00      1.00      1.00      3336\n",
            "           1       1.00      1.00      1.00      3738\n",
            "           2       1.00      0.99      0.99      3321\n",
            "           3       0.98      0.99      0.99      3495\n",
            "           4       0.99      1.00      0.99      3246\n",
            "           5       1.00      0.99      0.99      3022\n",
            "           6       1.00      0.99      1.00      3350\n",
            "           7       0.99      1.00      1.00      3532\n",
            "           8       0.99      0.99      0.99      3227\n",
            "           9       0.99      0.99      0.99      3333\n",
            "\n",
            "    accuracy                           0.99     33600\n",
            "   macro avg       0.99      0.99      0.99     33600\n",
            "weighted avg       0.99      0.99      0.99     33600\n",
            "\n"
          ]
        }
      ]
    },
    {
      "cell_type": "code",
      "source": [
        "model_eval(y_test , y_hat_test_mlp)"
      ],
      "metadata": {
        "colab": {
          "base_uri": "https://localhost:8080/"
        },
        "id": "WCBbBZqxgQp4",
        "outputId": "3197213b-b8f3-4dde-e404-3e563676d961"
      },
      "execution_count": null,
      "outputs": [
        {
          "output_type": "stream",
          "name": "stdout",
          "text": [
            "The Accuracy of the Model is: 0.95\n",
            "[[777   0   2   0   1   0   5   0   8   3]\n",
            " [  0 927   5   2   2   1   1   2   5   1]\n",
            " [  4   3 805  19   9   1   1   7   7   0]\n",
            " [  1   0  13 818   0  10   1   1   7   5]\n",
            " [  2   1   4   2 794   0   1   3   3  16]\n",
            " [  4   1   1  18   1 720  10   2  13   3]\n",
            " [ 10   0   6   0  10   4 756   0   1   0]\n",
            " [  1   2   7   8   4   2   0 831   0  14]\n",
            " [  5   7   3  35   7   7   6   1 755  10]\n",
            " [  2   0   1  16  12   2   0  21   5 796]]\n",
            "              precision    recall  f1-score   support\n",
            "\n",
            "           0       0.96      0.98      0.97       796\n",
            "           1       0.99      0.98      0.98       946\n",
            "           2       0.95      0.94      0.95       856\n",
            "           3       0.89      0.96      0.92       856\n",
            "           4       0.95      0.96      0.95       826\n",
            "           5       0.96      0.93      0.95       773\n",
            "           6       0.97      0.96      0.96       787\n",
            "           7       0.96      0.96      0.96       869\n",
            "           8       0.94      0.90      0.92       836\n",
            "           9       0.94      0.93      0.93       855\n",
            "\n",
            "    accuracy                           0.95      8400\n",
            "   macro avg       0.95      0.95      0.95      8400\n",
            "weighted avg       0.95      0.95      0.95      8400\n",
            "\n"
          ]
        }
      ]
    },
    {
      "cell_type": "code",
      "source": [
        "mlp = MLPClassifier(hidden_layer_sizes=(128,128,128), random_state=20, verbose=1)\n",
        "mlp.fit(x_train, y_train)\n",
        "y_hat_train_mlp = mlp.predict(x_train)\n",
        "y_hat_test_mlp = mlp.predict(x_test)"
      ],
      "metadata": {
        "colab": {
          "base_uri": "https://localhost:8080/"
        },
        "id": "012zDahWgqpz",
        "outputId": "98ba5489-cdfa-4878-c79f-b3f9f13c3118"
      },
      "execution_count": null,
      "outputs": [
        {
          "output_type": "stream",
          "name": "stdout",
          "text": [
            "Iteration 1, loss = 2.69284211\n",
            "Iteration 2, loss = 0.53861408\n",
            "Iteration 3, loss = 0.30645004\n",
            "Iteration 4, loss = 0.18875760\n",
            "Iteration 5, loss = 0.13178726\n",
            "Iteration 6, loss = 0.09973344\n",
            "Iteration 7, loss = 0.08203179\n",
            "Iteration 8, loss = 0.06922117\n",
            "Iteration 9, loss = 0.06831816\n",
            "Iteration 10, loss = 0.05526278\n",
            "Iteration 11, loss = 0.05434853\n",
            "Iteration 12, loss = 0.05802920\n",
            "Iteration 13, loss = 0.05796601\n",
            "Iteration 14, loss = 0.07997399\n",
            "Iteration 15, loss = 0.07580212\n",
            "Iteration 16, loss = 0.07837304\n",
            "Iteration 17, loss = 0.07056734\n",
            "Iteration 18, loss = 0.06858815\n",
            "Iteration 19, loss = 0.06040460\n",
            "Iteration 20, loss = 0.06889365\n",
            "Iteration 21, loss = 0.07296998\n",
            "Iteration 22, loss = 0.05315797\n",
            "Iteration 23, loss = 0.04910409\n",
            "Iteration 24, loss = 0.06262237\n",
            "Iteration 25, loss = 0.06570048\n",
            "Iteration 26, loss = 0.06295611\n",
            "Iteration 27, loss = 0.06144899\n",
            "Iteration 28, loss = 0.05053448\n",
            "Iteration 29, loss = 0.04875956\n",
            "Iteration 30, loss = 0.04884353\n",
            "Iteration 31, loss = 0.04093552\n",
            "Iteration 32, loss = 0.03999134\n",
            "Iteration 33, loss = 0.03235520\n",
            "Iteration 34, loss = 0.03548399\n",
            "Iteration 35, loss = 0.03608197\n",
            "Iteration 36, loss = 0.04702103\n",
            "Iteration 37, loss = 0.05382653\n",
            "Iteration 38, loss = 0.03558147\n",
            "Iteration 39, loss = 0.03331883\n",
            "Iteration 40, loss = 0.04002226\n",
            "Iteration 41, loss = 0.04215716\n",
            "Iteration 42, loss = 0.03781629\n",
            "Iteration 43, loss = 0.02983453\n",
            "Iteration 44, loss = 0.01841487\n",
            "Iteration 45, loss = 0.02653377\n",
            "Iteration 46, loss = 0.04256062\n",
            "Iteration 47, loss = 0.02497454\n",
            "Iteration 48, loss = 0.03659344\n",
            "Iteration 49, loss = 0.03886855\n",
            "Iteration 50, loss = 0.02202522\n",
            "Iteration 51, loss = 0.01597755\n",
            "Iteration 52, loss = 0.02741120\n",
            "Iteration 53, loss = 0.02889439\n",
            "Iteration 54, loss = 0.02765145\n",
            "Iteration 55, loss = 0.02147057\n",
            "Iteration 56, loss = 0.01819481\n",
            "Iteration 57, loss = 0.02064329\n",
            "Iteration 58, loss = 0.02265560\n",
            "Iteration 59, loss = 0.02669803\n",
            "Iteration 60, loss = 0.02295765\n",
            "Iteration 61, loss = 0.02666692\n",
            "Iteration 62, loss = 0.03733129\n",
            "Training loss did not improve more than tol=0.000100 for 10 consecutive epochs. Stopping.\n"
          ]
        }
      ]
    },
    {
      "cell_type": "code",
      "source": [
        "model_eval(y_train , y_hat_train_mlp)"
      ],
      "metadata": {
        "colab": {
          "base_uri": "https://localhost:8080/"
        },
        "id": "XE5amWSihTev",
        "outputId": "c4a87ff3-7397-4870-8b4e-0cadbb6a254c"
      },
      "execution_count": null,
      "outputs": [
        {
          "output_type": "stream",
          "name": "stdout",
          "text": [
            "The Accuracy of the Model is: 0.99\n",
            "[[3329    1    0    0    0    0    5    0    1    0]\n",
            " [   0 3735    0    0    0    0    0    0    3    0]\n",
            " [   0    0 3303    4    0    0    0    4    9    1]\n",
            " [   0    1    4 3473    0   12    0    1    4    0]\n",
            " [   3    2    0    0 3224    2    0    1    5    9]\n",
            " [   0    0    0    2    0 3012    0    0    7    1]\n",
            " [   2    0    0    0    1    8 3333    0    6    0]\n",
            " [   2    7    2    0    0    0    1 3507    1   12]\n",
            " [   1    1    0    4    0    2    0    0 3218    1]\n",
            " [   0    0    0   18    1    4    0    0   23 3287]]\n",
            "              precision    recall  f1-score   support\n",
            "\n",
            "           0       1.00      1.00      1.00      3336\n",
            "           1       1.00      1.00      1.00      3738\n",
            "           2       1.00      0.99      1.00      3321\n",
            "           3       0.99      0.99      0.99      3495\n",
            "           4       1.00      0.99      1.00      3246\n",
            "           5       0.99      1.00      0.99      3022\n",
            "           6       1.00      0.99      1.00      3350\n",
            "           7       1.00      0.99      1.00      3532\n",
            "           8       0.98      1.00      0.99      3227\n",
            "           9       0.99      0.99      0.99      3333\n",
            "\n",
            "    accuracy                           0.99     33600\n",
            "   macro avg       0.99      0.99      0.99     33600\n",
            "weighted avg       0.99      0.99      0.99     33600\n",
            "\n"
          ]
        }
      ]
    },
    {
      "cell_type": "code",
      "source": [
        "model_eval(y_test , y_hat_test_mlp)"
      ],
      "metadata": {
        "colab": {
          "base_uri": "https://localhost:8080/"
        },
        "id": "olcGcP4ihWku",
        "outputId": "ac469bf5-c102-4756-f8f0-bf9f8a299bb1"
      },
      "execution_count": null,
      "outputs": [
        {
          "output_type": "stream",
          "name": "stdout",
          "text": [
            "The Accuracy of the Model is: 0.97\n",
            "[[781   1   1   0   2   0   6   0   4   1]\n",
            " [  0 934   0   4   1   0   0   1   6   0]\n",
            " [  1   3 824   6   4   1   4   5   7   1]\n",
            " [  0   1   4 823   0  17   1   2   7   1]\n",
            " [  2   3   2   1 795   0   3   2   3  15]\n",
            " [  1   1   1   6   1 744   6   0  12   1]\n",
            " [  3   2   1   0   2  10 766   0   3   0]\n",
            " [  1   5   5   1   1   3   0 839   2  12]\n",
            " [  0   8   4   7   2   5   2   1 804   3]\n",
            " [  3   0   0  23   3   3   0   5   8 810]]\n",
            "              precision    recall  f1-score   support\n",
            "\n",
            "           0       0.99      0.98      0.98       796\n",
            "           1       0.97      0.99      0.98       946\n",
            "           2       0.98      0.96      0.97       856\n",
            "           3       0.94      0.96      0.95       856\n",
            "           4       0.98      0.96      0.97       826\n",
            "           5       0.95      0.96      0.96       773\n",
            "           6       0.97      0.97      0.97       787\n",
            "           7       0.98      0.97      0.97       869\n",
            "           8       0.94      0.96      0.95       836\n",
            "           9       0.96      0.95      0.95       855\n",
            "\n",
            "    accuracy                           0.97      8400\n",
            "   macro avg       0.97      0.97      0.97      8400\n",
            "weighted avg       0.97      0.97      0.97      8400\n",
            "\n"
          ]
        }
      ]
    },
    {
      "cell_type": "markdown",
      "source": [
        "Clearly, compared to the Single Layer Perceptron, we not that the accuracy of the multi layer perceptron is much better."
      ],
      "metadata": {
        "id": "3Ac2ymTB3-aa"
      }
    },
    {
      "cell_type": "markdown",
      "source": [
        "# TensorFlow and Keras\n"
      ],
      "metadata": {
        "id": "sblBcPLW7C0m"
      }
    },
    {
      "cell_type": "markdown",
      "source": [
        "## Approach to Keras & TensorFlow\n",
        "* Load the data and libraries.\n",
        "* One Hot Encoding\n",
        "* Declare the model\n",
        "  * Sequential Model - sequence of layers - self made models\n",
        "  * Functional Model - Multi Model/Transfer layer - models created by Independent Creators\n",
        "* Declare the layer\n",
        "  * Dense, dropout layer\n",
        "  * Number of neurons we need, Activation Functions\n",
        "* Compile the Model\n",
        "  * Optimizer - SGD/Adam\n",
        "  * Loss Function - Cross Entropy, RMSE, MSE\n",
        "  * Metrics - Accuracy, F1, Precision and Recall are some metrics we've\n",
        "* Fit the model\n",
        "  * pass x train and y train\n",
        "  * pas x test and y test\n",
        "  * Define epochs and batch size\n",
        "* Predict and evaluate the model"
      ],
      "metadata": {
        "id": "-TkiKYAp7R7f"
      }
    },
    {
      "cell_type": "code",
      "source": [
        "#importing libraries\n",
        "from keras.models import Sequential\n",
        "from keras.layers import Dense, Dropout\n",
        "from keras.optimizers import SGD\n",
        "from keras.utils import to_categorical"
      ],
      "metadata": {
        "id": "4XTSbUuP7ZaB"
      },
      "execution_count": null,
      "outputs": []
    },
    {
      "cell_type": "markdown",
      "source": [
        "One Hot Encoding"
      ],
      "metadata": {
        "id": "EkARbNG6HXYR"
      }
    },
    {
      "cell_type": "code",
      "source": [
        "y_train_ohe = to_categorical(y_train)\n",
        "y_test_ohe = to_categorical(y_test)"
      ],
      "metadata": {
        "id": "dbdRnG9eErJ_"
      },
      "execution_count": null,
      "outputs": []
    },
    {
      "cell_type": "code",
      "source": [
        "print(y_train)\n",
        "print(y_train_ohe)"
      ],
      "metadata": {
        "colab": {
          "base_uri": "https://localhost:8080/"
        },
        "id": "rViK7Xi4Iw2w",
        "outputId": "64a2bb28-8360-4683-d7a3-0f3314b2b5f8"
      },
      "execution_count": null,
      "outputs": [
        {
          "output_type": "stream",
          "name": "stdout",
          "text": [
            "3698     4\n",
            "13466    7\n",
            "21701    7\n",
            "29814    5\n",
            "17325    8\n",
            "        ..\n",
            "40059    4\n",
            "28017    2\n",
            "29199    5\n",
            "40061    6\n",
            "17673    0\n",
            "Name: label, Length: 33600, dtype: int64\n",
            "[[0. 0. 0. ... 0. 0. 0.]\n",
            " [0. 0. 0. ... 1. 0. 0.]\n",
            " [0. 0. 0. ... 1. 0. 0.]\n",
            " ...\n",
            " [0. 0. 0. ... 0. 0. 0.]\n",
            " [0. 0. 0. ... 0. 0. 0.]\n",
            " [1. 0. 0. ... 0. 0. 0.]]\n"
          ]
        }
      ]
    },
    {
      "cell_type": "markdown",
      "source": [
        "declaring the model"
      ],
      "metadata": {
        "id": "hLiJRlG1XV-9"
      }
    },
    {
      "cell_type": "code",
      "source": [
        "model = Sequential()\n",
        "model.add(Dense(512, activation='relu', input_shape=(784,))) #layer 1 and Input Layer\n",
        "model.add(Dropout(0.2))\n",
        "model.add(Dense(512, activation='relu')) #layer 2\n",
        "model.add(Dropout(0.2))\n",
        "model.add(Dense(512, activation='relu')) #layer 3\n",
        "model.add(Dropout(0.2))\n",
        "model.add(Dense(512, activation='relu')) #layer 4\n",
        "model.add(Dropout(0.2))\n",
        "model.add(Dense(512, activation='relu')) #layer 5\n",
        "model.add(Dropout(0.2))\n",
        "model.add(Dense(10, activation='softmax')) #output layer - 10 because we have 10 output - softmax converts into probablity"
      ],
      "metadata": {
        "id": "9QyH3JVuJFwS"
      },
      "execution_count": null,
      "outputs": []
    },
    {
      "cell_type": "markdown",
      "source": [
        "**Arguments in Dense**\n",
        "\n",
        "* units: Positive integer, dimensionality of the output space.\n",
        "* activation: Activation function to use. If you don't specify anything, no activation is applied (ie. \"linear\" activation: a(x) = x).\n",
        "* use_bias: Boolean, whether the layer uses a bias vector.\n",
        "* kernel_initializer: Initializer for the kernel weights matrix - can be initialised as a normal distribution by replacing the hyper\n",
        " parameter with \"tf.random.normal\" or from an uniform distribution(default)\n",
        "* bias_initializer: Initializer for the bias vector - all biases start with 0\n",
        "* kernel_regularizer: Regularizer function applied to the kernel weights matrix - for l1 and l2\n",
        "* bias_regularizer: Regularizer function applied to the bias vector for l1 and/or l2\n",
        "  * much better to use drop out than regularizers above\n",
        "* activity_regularizer: Regularizer function applied to the output of the layer (its \"activation\").\n",
        "* kernel_constraint: Constraint function applied to the kernel weights matrix.\n",
        "* bias_constraint: Constraint function applied to the bias vector.\n",
        "* lora_rank: Optional integer. If set, the layer's forward pass will implement LoRA (Low-Rank Adaptation) with the provided rank. LoRA sets the layer's kernel to non-trainable and replaces it with a delta over the original kernel, obtained via multiplying two lower-rank trainable matrices. This can be useful to reduce the computation cost of fine-tuning large dense layers. You can also enable LoRA on an existing Dense layer by calling layer.enable_lora(rank).\n",
        "* Input and Output shapes\n"
      ],
      "metadata": {
        "id": "fDEcJ_QdKQv_"
      }
    },
    {
      "cell_type": "markdown",
      "source": [
        "drop out - drops out layers in random - observes the model  and deletes if the dropped out neurons do not affect the model"
      ],
      "metadata": {
        "id": "AXfPtTjVgFej"
      }
    },
    {
      "cell_type": "code",
      "source": [
        "model.summary()"
      ],
      "metadata": {
        "colab": {
          "base_uri": "https://localhost:8080/",
          "height": 481
        },
        "id": "z82OshHlKiBW",
        "outputId": "84f5caca-01cf-43a1-9880-bd2be8eff988"
      },
      "execution_count": null,
      "outputs": [
        {
          "output_type": "display_data",
          "data": {
            "text/plain": [
              "\u001b[1mModel: \"sequential_2\"\u001b[0m\n"
            ],
            "text/html": [
              "<pre style=\"white-space:pre;overflow-x:auto;line-height:normal;font-family:Menlo,'DejaVu Sans Mono',consolas,'Courier New',monospace\"><span style=\"font-weight: bold\">Model: \"sequential_2\"</span>\n",
              "</pre>\n"
            ]
          },
          "metadata": {}
        },
        {
          "output_type": "display_data",
          "data": {
            "text/plain": [
              "┏━━━━━━━━━━━━━━━━━━━━━━━━━━━━━━━━━━━━━━┳━━━━━━━━━━━━━━━━━━━━━━━━━━━━━┳━━━━━━━━━━━━━━━━━┓\n",
              "┃\u001b[1m \u001b[0m\u001b[1mLayer (type)                        \u001b[0m\u001b[1m \u001b[0m┃\u001b[1m \u001b[0m\u001b[1mOutput Shape               \u001b[0m\u001b[1m \u001b[0m┃\u001b[1m \u001b[0m\u001b[1m        Param #\u001b[0m\u001b[1m \u001b[0m┃\n",
              "┡━━━━━━━━━━━━━━━━━━━━━━━━━━━━━━━━━━━━━━╇━━━━━━━━━━━━━━━━━━━━━━━━━━━━━╇━━━━━━━━━━━━━━━━━┩\n",
              "│ dense_10 (\u001b[38;5;33mDense\u001b[0m)                     │ (\u001b[38;5;45mNone\u001b[0m, \u001b[38;5;34m512\u001b[0m)                 │         \u001b[38;5;34m401,920\u001b[0m │\n",
              "├──────────────────────────────────────┼─────────────────────────────┼─────────────────┤\n",
              "│ dropout_8 (\u001b[38;5;33mDropout\u001b[0m)                  │ (\u001b[38;5;45mNone\u001b[0m, \u001b[38;5;34m512\u001b[0m)                 │               \u001b[38;5;34m0\u001b[0m │\n",
              "├──────────────────────────────────────┼─────────────────────────────┼─────────────────┤\n",
              "│ dense_11 (\u001b[38;5;33mDense\u001b[0m)                     │ (\u001b[38;5;45mNone\u001b[0m, \u001b[38;5;34m512\u001b[0m)                 │         \u001b[38;5;34m262,656\u001b[0m │\n",
              "├──────────────────────────────────────┼─────────────────────────────┼─────────────────┤\n",
              "│ dropout_9 (\u001b[38;5;33mDropout\u001b[0m)                  │ (\u001b[38;5;45mNone\u001b[0m, \u001b[38;5;34m512\u001b[0m)                 │               \u001b[38;5;34m0\u001b[0m │\n",
              "├──────────────────────────────────────┼─────────────────────────────┼─────────────────┤\n",
              "│ dense_12 (\u001b[38;5;33mDense\u001b[0m)                     │ (\u001b[38;5;45mNone\u001b[0m, \u001b[38;5;34m512\u001b[0m)                 │         \u001b[38;5;34m262,656\u001b[0m │\n",
              "├──────────────────────────────────────┼─────────────────────────────┼─────────────────┤\n",
              "│ dropout_10 (\u001b[38;5;33mDropout\u001b[0m)                 │ (\u001b[38;5;45mNone\u001b[0m, \u001b[38;5;34m512\u001b[0m)                 │               \u001b[38;5;34m0\u001b[0m │\n",
              "├──────────────────────────────────────┼─────────────────────────────┼─────────────────┤\n",
              "│ dense_13 (\u001b[38;5;33mDense\u001b[0m)                     │ (\u001b[38;5;45mNone\u001b[0m, \u001b[38;5;34m512\u001b[0m)                 │         \u001b[38;5;34m262,656\u001b[0m │\n",
              "├──────────────────────────────────────┼─────────────────────────────┼─────────────────┤\n",
              "│ dropout_11 (\u001b[38;5;33mDropout\u001b[0m)                 │ (\u001b[38;5;45mNone\u001b[0m, \u001b[38;5;34m512\u001b[0m)                 │               \u001b[38;5;34m0\u001b[0m │\n",
              "├──────────────────────────────────────┼─────────────────────────────┼─────────────────┤\n",
              "│ dense_14 (\u001b[38;5;33mDense\u001b[0m)                     │ (\u001b[38;5;45mNone\u001b[0m, \u001b[38;5;34m512\u001b[0m)                 │         \u001b[38;5;34m262,656\u001b[0m │\n",
              "├──────────────────────────────────────┼─────────────────────────────┼─────────────────┤\n",
              "│ dropout_12 (\u001b[38;5;33mDropout\u001b[0m)                 │ (\u001b[38;5;45mNone\u001b[0m, \u001b[38;5;34m512\u001b[0m)                 │               \u001b[38;5;34m0\u001b[0m │\n",
              "├──────────────────────────────────────┼─────────────────────────────┼─────────────────┤\n",
              "│ dense_15 (\u001b[38;5;33mDense\u001b[0m)                     │ (\u001b[38;5;45mNone\u001b[0m, \u001b[38;5;34m10\u001b[0m)                  │           \u001b[38;5;34m5,130\u001b[0m │\n",
              "└──────────────────────────────────────┴─────────────────────────────┴─────────────────┘\n"
            ],
            "text/html": [
              "<pre style=\"white-space:pre;overflow-x:auto;line-height:normal;font-family:Menlo,'DejaVu Sans Mono',consolas,'Courier New',monospace\">┏━━━━━━━━━━━━━━━━━━━━━━━━━━━━━━━━━━━━━━┳━━━━━━━━━━━━━━━━━━━━━━━━━━━━━┳━━━━━━━━━━━━━━━━━┓\n",
              "┃<span style=\"font-weight: bold\"> Layer (type)                         </span>┃<span style=\"font-weight: bold\"> Output Shape                </span>┃<span style=\"font-weight: bold\">         Param # </span>┃\n",
              "┡━━━━━━━━━━━━━━━━━━━━━━━━━━━━━━━━━━━━━━╇━━━━━━━━━━━━━━━━━━━━━━━━━━━━━╇━━━━━━━━━━━━━━━━━┩\n",
              "│ dense_10 (<span style=\"color: #0087ff; text-decoration-color: #0087ff\">Dense</span>)                     │ (<span style=\"color: #00d7ff; text-decoration-color: #00d7ff\">None</span>, <span style=\"color: #00af00; text-decoration-color: #00af00\">512</span>)                 │         <span style=\"color: #00af00; text-decoration-color: #00af00\">401,920</span> │\n",
              "├──────────────────────────────────────┼─────────────────────────────┼─────────────────┤\n",
              "│ dropout_8 (<span style=\"color: #0087ff; text-decoration-color: #0087ff\">Dropout</span>)                  │ (<span style=\"color: #00d7ff; text-decoration-color: #00d7ff\">None</span>, <span style=\"color: #00af00; text-decoration-color: #00af00\">512</span>)                 │               <span style=\"color: #00af00; text-decoration-color: #00af00\">0</span> │\n",
              "├──────────────────────────────────────┼─────────────────────────────┼─────────────────┤\n",
              "│ dense_11 (<span style=\"color: #0087ff; text-decoration-color: #0087ff\">Dense</span>)                     │ (<span style=\"color: #00d7ff; text-decoration-color: #00d7ff\">None</span>, <span style=\"color: #00af00; text-decoration-color: #00af00\">512</span>)                 │         <span style=\"color: #00af00; text-decoration-color: #00af00\">262,656</span> │\n",
              "├──────────────────────────────────────┼─────────────────────────────┼─────────────────┤\n",
              "│ dropout_9 (<span style=\"color: #0087ff; text-decoration-color: #0087ff\">Dropout</span>)                  │ (<span style=\"color: #00d7ff; text-decoration-color: #00d7ff\">None</span>, <span style=\"color: #00af00; text-decoration-color: #00af00\">512</span>)                 │               <span style=\"color: #00af00; text-decoration-color: #00af00\">0</span> │\n",
              "├──────────────────────────────────────┼─────────────────────────────┼─────────────────┤\n",
              "│ dense_12 (<span style=\"color: #0087ff; text-decoration-color: #0087ff\">Dense</span>)                     │ (<span style=\"color: #00d7ff; text-decoration-color: #00d7ff\">None</span>, <span style=\"color: #00af00; text-decoration-color: #00af00\">512</span>)                 │         <span style=\"color: #00af00; text-decoration-color: #00af00\">262,656</span> │\n",
              "├──────────────────────────────────────┼─────────────────────────────┼─────────────────┤\n",
              "│ dropout_10 (<span style=\"color: #0087ff; text-decoration-color: #0087ff\">Dropout</span>)                 │ (<span style=\"color: #00d7ff; text-decoration-color: #00d7ff\">None</span>, <span style=\"color: #00af00; text-decoration-color: #00af00\">512</span>)                 │               <span style=\"color: #00af00; text-decoration-color: #00af00\">0</span> │\n",
              "├──────────────────────────────────────┼─────────────────────────────┼─────────────────┤\n",
              "│ dense_13 (<span style=\"color: #0087ff; text-decoration-color: #0087ff\">Dense</span>)                     │ (<span style=\"color: #00d7ff; text-decoration-color: #00d7ff\">None</span>, <span style=\"color: #00af00; text-decoration-color: #00af00\">512</span>)                 │         <span style=\"color: #00af00; text-decoration-color: #00af00\">262,656</span> │\n",
              "├──────────────────────────────────────┼─────────────────────────────┼─────────────────┤\n",
              "│ dropout_11 (<span style=\"color: #0087ff; text-decoration-color: #0087ff\">Dropout</span>)                 │ (<span style=\"color: #00d7ff; text-decoration-color: #00d7ff\">None</span>, <span style=\"color: #00af00; text-decoration-color: #00af00\">512</span>)                 │               <span style=\"color: #00af00; text-decoration-color: #00af00\">0</span> │\n",
              "├──────────────────────────────────────┼─────────────────────────────┼─────────────────┤\n",
              "│ dense_14 (<span style=\"color: #0087ff; text-decoration-color: #0087ff\">Dense</span>)                     │ (<span style=\"color: #00d7ff; text-decoration-color: #00d7ff\">None</span>, <span style=\"color: #00af00; text-decoration-color: #00af00\">512</span>)                 │         <span style=\"color: #00af00; text-decoration-color: #00af00\">262,656</span> │\n",
              "├──────────────────────────────────────┼─────────────────────────────┼─────────────────┤\n",
              "│ dropout_12 (<span style=\"color: #0087ff; text-decoration-color: #0087ff\">Dropout</span>)                 │ (<span style=\"color: #00d7ff; text-decoration-color: #00d7ff\">None</span>, <span style=\"color: #00af00; text-decoration-color: #00af00\">512</span>)                 │               <span style=\"color: #00af00; text-decoration-color: #00af00\">0</span> │\n",
              "├──────────────────────────────────────┼─────────────────────────────┼─────────────────┤\n",
              "│ dense_15 (<span style=\"color: #0087ff; text-decoration-color: #0087ff\">Dense</span>)                     │ (<span style=\"color: #00d7ff; text-decoration-color: #00d7ff\">None</span>, <span style=\"color: #00af00; text-decoration-color: #00af00\">10</span>)                  │           <span style=\"color: #00af00; text-decoration-color: #00af00\">5,130</span> │\n",
              "└──────────────────────────────────────┴─────────────────────────────┴─────────────────┘\n",
              "</pre>\n"
            ]
          },
          "metadata": {}
        },
        {
          "output_type": "display_data",
          "data": {
            "text/plain": [
              "\u001b[1m Total params: \u001b[0m\u001b[38;5;34m1,457,674\u001b[0m (5.56 MB)\n"
            ],
            "text/html": [
              "<pre style=\"white-space:pre;overflow-x:auto;line-height:normal;font-family:Menlo,'DejaVu Sans Mono',consolas,'Courier New',monospace\"><span style=\"font-weight: bold\"> Total params: </span><span style=\"color: #00af00; text-decoration-color: #00af00\">1,457,674</span> (5.56 MB)\n",
              "</pre>\n"
            ]
          },
          "metadata": {}
        },
        {
          "output_type": "display_data",
          "data": {
            "text/plain": [
              "\u001b[1m Trainable params: \u001b[0m\u001b[38;5;34m1,457,674\u001b[0m (5.56 MB)\n"
            ],
            "text/html": [
              "<pre style=\"white-space:pre;overflow-x:auto;line-height:normal;font-family:Menlo,'DejaVu Sans Mono',consolas,'Courier New',monospace\"><span style=\"font-weight: bold\"> Trainable params: </span><span style=\"color: #00af00; text-decoration-color: #00af00\">1,457,674</span> (5.56 MB)\n",
              "</pre>\n"
            ]
          },
          "metadata": {}
        },
        {
          "output_type": "display_data",
          "data": {
            "text/plain": [
              "\u001b[1m Non-trainable params: \u001b[0m\u001b[38;5;34m0\u001b[0m (0.00 B)\n"
            ],
            "text/html": [
              "<pre style=\"white-space:pre;overflow-x:auto;line-height:normal;font-family:Menlo,'DejaVu Sans Mono',consolas,'Courier New',monospace\"><span style=\"font-weight: bold\"> Non-trainable params: </span><span style=\"color: #00af00; text-decoration-color: #00af00\">0</span> (0.00 B)\n",
              "</pre>\n"
            ]
          },
          "metadata": {}
        }
      ]
    },
    {
      "cell_type": "code",
      "source": [
        "InputLayer = (784*64)+64\n",
        "Layer1 = (64*64)+64\n",
        "Layer2 = (64*64)+64\n",
        "OutputLayer = (64*10)+10\n",
        "parameters = InputLayer+ Layer1 + Layer2 + OutputLayer\n",
        "print(\"Input Layer\", InputLayer)\n",
        "print(\"Layer 1\", Layer1)\n",
        "print(\"Layer 2\", Layer2)\n",
        "print(\"Output Layer\", OutputLayer)\n",
        "print(\"Total Parameters\", parameters)"
      ],
      "metadata": {
        "colab": {
          "base_uri": "https://localhost:8080/"
        },
        "id": "Y33rbfO6Pi8p",
        "outputId": "9a789384-7464-4357-99b2-c4c77849242d"
      },
      "execution_count": null,
      "outputs": [
        {
          "output_type": "stream",
          "name": "stdout",
          "text": [
            "Input Layer 50240\n",
            "Layer 1 4160\n",
            "Layer 2 4160\n",
            "Output Layer 650\n",
            "Total Parameters 59210\n"
          ]
        }
      ]
    },
    {
      "cell_type": "markdown",
      "source": [
        "Compiling"
      ],
      "metadata": {
        "id": "GD_qgCAOX51c"
      }
    },
    {
      "cell_type": "code",
      "source": [
        "model.compile(optimizer='adam', loss='categorical_crossentropy', metrics=['accuracy'])"
      ],
      "metadata": {
        "id": "RP70TvoMXamx"
      },
      "execution_count": null,
      "outputs": []
    },
    {
      "cell_type": "markdown",
      "source": [
        "Fitting the Model"
      ],
      "metadata": {
        "id": "_hpQYJ8mX8CA"
      }
    },
    {
      "cell_type": "code",
      "source": [
        "hist = model.fit(x_train, y_train_ohe, batch_size=128, epochs=100, validation_data=(x_test, y_test_ohe))"
      ],
      "metadata": {
        "colab": {
          "base_uri": "https://localhost:8080/"
        },
        "id": "QgZBK5nSX4yb",
        "outputId": "66a44124-c345-48fa-e434-6ce0682a0a15"
      },
      "execution_count": null,
      "outputs": [
        {
          "output_type": "stream",
          "name": "stdout",
          "text": [
            "Epoch 1/100\n",
            "\u001b[1m263/263\u001b[0m \u001b[32m━━━━━━━━━━━━━━━━━━━━\u001b[0m\u001b[37m\u001b[0m \u001b[1m16s\u001b[0m 49ms/step - accuracy: 0.5625 - loss: 6.4834 - val_accuracy: 0.9271 - val_loss: 0.2493\n",
            "Epoch 2/100\n",
            "\u001b[1m263/263\u001b[0m \u001b[32m━━━━━━━━━━━━━━━━━━━━\u001b[0m\u001b[37m\u001b[0m \u001b[1m22s\u001b[0m 53ms/step - accuracy: 0.8907 - loss: 0.3698 - val_accuracy: 0.9404 - val_loss: 0.2047\n",
            "Epoch 3/100\n",
            "\u001b[1m263/263\u001b[0m \u001b[32m━━━━━━━━━━━━━━━━━━━━\u001b[0m\u001b[37m\u001b[0m \u001b[1m21s\u001b[0m 54ms/step - accuracy: 0.9222 - loss: 0.2677 - val_accuracy: 0.9469 - val_loss: 0.1895\n",
            "Epoch 4/100\n",
            "\u001b[1m263/263\u001b[0m \u001b[32m━━━━━━━━━━━━━━━━━━━━\u001b[0m\u001b[37m\u001b[0m \u001b[1m19s\u001b[0m 50ms/step - accuracy: 0.9401 - loss: 0.2018 - val_accuracy: 0.9596 - val_loss: 0.1439\n",
            "Epoch 5/100\n",
            "\u001b[1m263/263\u001b[0m \u001b[32m━━━━━━━━━━━━━━━━━━━━\u001b[0m\u001b[37m\u001b[0m \u001b[1m21s\u001b[0m 52ms/step - accuracy: 0.9494 - loss: 0.1760 - val_accuracy: 0.9625 - val_loss: 0.1416\n",
            "Epoch 6/100\n",
            "\u001b[1m263/263\u001b[0m \u001b[32m━━━━━━━━━━━━━━━━━━━━\u001b[0m\u001b[37m\u001b[0m \u001b[1m21s\u001b[0m 54ms/step - accuracy: 0.9549 - loss: 0.1552 - val_accuracy: 0.9643 - val_loss: 0.1343\n",
            "Epoch 7/100\n",
            "\u001b[1m263/263\u001b[0m \u001b[32m━━━━━━━━━━━━━━━━━━━━\u001b[0m\u001b[37m\u001b[0m \u001b[1m14s\u001b[0m 52ms/step - accuracy: 0.9628 - loss: 0.1261 - val_accuracy: 0.9658 - val_loss: 0.1230\n",
            "Epoch 8/100\n",
            "\u001b[1m263/263\u001b[0m \u001b[32m━━━━━━━━━━━━━━━━━━━━\u001b[0m\u001b[37m\u001b[0m \u001b[1m13s\u001b[0m 51ms/step - accuracy: 0.9656 - loss: 0.1165 - val_accuracy: 0.9692 - val_loss: 0.1090\n",
            "Epoch 9/100\n",
            "\u001b[1m263/263\u001b[0m \u001b[32m━━━━━━━━━━━━━━━━━━━━\u001b[0m\u001b[37m\u001b[0m \u001b[1m21s\u001b[0m 52ms/step - accuracy: 0.9669 - loss: 0.1175 - val_accuracy: 0.9693 - val_loss: 0.1133\n",
            "Epoch 10/100\n",
            "\u001b[1m263/263\u001b[0m \u001b[32m━━━━━━━━━━━━━━━━━━━━\u001b[0m\u001b[37m\u001b[0m \u001b[1m21s\u001b[0m 53ms/step - accuracy: 0.9706 - loss: 0.1087 - val_accuracy: 0.9674 - val_loss: 0.1288\n",
            "Epoch 11/100\n",
            "\u001b[1m263/263\u001b[0m \u001b[32m━━━━━━━━━━━━━━━━━━━━\u001b[0m\u001b[37m\u001b[0m \u001b[1m18s\u001b[0m 44ms/step - accuracy: 0.9680 - loss: 0.1150 - val_accuracy: 0.9657 - val_loss: 0.1253\n",
            "Epoch 12/100\n",
            "\u001b[1m263/263\u001b[0m \u001b[32m━━━━━━━━━━━━━━━━━━━━\u001b[0m\u001b[37m\u001b[0m \u001b[1m23s\u001b[0m 53ms/step - accuracy: 0.9721 - loss: 0.0981 - val_accuracy: 0.9671 - val_loss: 0.1224\n",
            "Epoch 13/100\n",
            "\u001b[1m263/263\u001b[0m \u001b[32m━━━━━━━━━━━━━━━━━━━━\u001b[0m\u001b[37m\u001b[0m \u001b[1m21s\u001b[0m 54ms/step - accuracy: 0.9733 - loss: 0.0984 - val_accuracy: 0.9712 - val_loss: 0.1122\n",
            "Epoch 14/100\n",
            "\u001b[1m263/263\u001b[0m \u001b[32m━━━━━━━━━━━━━━━━━━━━\u001b[0m\u001b[37m\u001b[0m \u001b[1m18s\u001b[0m 45ms/step - accuracy: 0.9774 - loss: 0.0840 - val_accuracy: 0.9688 - val_loss: 0.1232\n",
            "Epoch 15/100\n",
            "\u001b[1m263/263\u001b[0m \u001b[32m━━━━━━━━━━━━━━━━━━━━\u001b[0m\u001b[37m\u001b[0m \u001b[1m22s\u001b[0m 52ms/step - accuracy: 0.9791 - loss: 0.0716 - val_accuracy: 0.9698 - val_loss: 0.1277\n",
            "Epoch 16/100\n",
            "\u001b[1m263/263\u001b[0m \u001b[32m━━━━━━━━━━━━━━━━━━━━\u001b[0m\u001b[37m\u001b[0m \u001b[1m14s\u001b[0m 53ms/step - accuracy: 0.9749 - loss: 0.1028 - val_accuracy: 0.9690 - val_loss: 0.1302\n",
            "Epoch 17/100\n",
            "\u001b[1m263/263\u001b[0m \u001b[32m━━━━━━━━━━━━━━━━━━━━\u001b[0m\u001b[37m\u001b[0m \u001b[1m20s\u001b[0m 52ms/step - accuracy: 0.9769 - loss: 0.0859 - val_accuracy: 0.9675 - val_loss: 0.1304\n",
            "Epoch 18/100\n",
            "\u001b[1m263/263\u001b[0m \u001b[32m━━━━━━━━━━━━━━━━━━━━\u001b[0m\u001b[37m\u001b[0m \u001b[1m20s\u001b[0m 51ms/step - accuracy: 0.9759 - loss: 0.0884 - val_accuracy: 0.9685 - val_loss: 0.1565\n",
            "Epoch 19/100\n",
            "\u001b[1m263/263\u001b[0m \u001b[32m━━━━━━━━━━━━━━━━━━━━\u001b[0m\u001b[37m\u001b[0m \u001b[1m14s\u001b[0m 53ms/step - accuracy: 0.9758 - loss: 0.0927 - val_accuracy: 0.9725 - val_loss: 0.1166\n",
            "Epoch 20/100\n",
            "\u001b[1m263/263\u001b[0m \u001b[32m━━━━━━━━━━━━━━━━━━━━\u001b[0m\u001b[37m\u001b[0m \u001b[1m14s\u001b[0m 53ms/step - accuracy: 0.9771 - loss: 0.0915 - val_accuracy: 0.9719 - val_loss: 0.1270\n",
            "Epoch 21/100\n",
            "\u001b[1m263/263\u001b[0m \u001b[32m━━━━━━━━━━━━━━━━━━━━\u001b[0m\u001b[37m\u001b[0m \u001b[1m21s\u001b[0m 54ms/step - accuracy: 0.9783 - loss: 0.0831 - val_accuracy: 0.9714 - val_loss: 0.1306\n",
            "Epoch 22/100\n",
            "\u001b[1m263/263\u001b[0m \u001b[32m━━━━━━━━━━━━━━━━━━━━\u001b[0m\u001b[37m\u001b[0m \u001b[1m14s\u001b[0m 53ms/step - accuracy: 0.9811 - loss: 0.0792 - val_accuracy: 0.9717 - val_loss: 0.1259\n",
            "Epoch 23/100\n",
            "\u001b[1m263/263\u001b[0m \u001b[32m━━━━━━━━━━━━━━━━━━━━\u001b[0m\u001b[37m\u001b[0m \u001b[1m20s\u001b[0m 52ms/step - accuracy: 0.9806 - loss: 0.0751 - val_accuracy: 0.9732 - val_loss: 0.1379\n",
            "Epoch 24/100\n",
            "\u001b[1m263/263\u001b[0m \u001b[32m━━━━━━━━━━━━━━━━━━━━\u001b[0m\u001b[37m\u001b[0m \u001b[1m14s\u001b[0m 53ms/step - accuracy: 0.9820 - loss: 0.0710 - val_accuracy: 0.9675 - val_loss: 0.1711\n",
            "Epoch 25/100\n",
            "\u001b[1m263/263\u001b[0m \u001b[32m━━━━━━━━━━━━━━━━━━━━\u001b[0m\u001b[37m\u001b[0m \u001b[1m20s\u001b[0m 53ms/step - accuracy: 0.9789 - loss: 0.0833 - val_accuracy: 0.9718 - val_loss: 0.1638\n",
            "Epoch 26/100\n",
            "\u001b[1m263/263\u001b[0m \u001b[32m━━━━━━━━━━━━━━━━━━━━\u001b[0m\u001b[37m\u001b[0m \u001b[1m14s\u001b[0m 53ms/step - accuracy: 0.9795 - loss: 0.0896 - val_accuracy: 0.9698 - val_loss: 0.1547\n",
            "Epoch 27/100\n",
            "\u001b[1m263/263\u001b[0m \u001b[32m━━━━━━━━━━━━━━━━━━━━\u001b[0m\u001b[37m\u001b[0m \u001b[1m14s\u001b[0m 52ms/step - accuracy: 0.9796 - loss: 0.0746 - val_accuracy: 0.9758 - val_loss: 0.1429\n",
            "Epoch 28/100\n",
            "\u001b[1m263/263\u001b[0m \u001b[32m━━━━━━━━━━━━━━━━━━━━\u001b[0m\u001b[37m\u001b[0m \u001b[1m12s\u001b[0m 47ms/step - accuracy: 0.9800 - loss: 0.0854 - val_accuracy: 0.9710 - val_loss: 0.1499\n",
            "Epoch 29/100\n",
            "\u001b[1m263/263\u001b[0m \u001b[32m━━━━━━━━━━━━━━━━━━━━\u001b[0m\u001b[37m\u001b[0m \u001b[1m12s\u001b[0m 47ms/step - accuracy: 0.9850 - loss: 0.0786 - val_accuracy: 0.9713 - val_loss: 0.1661\n",
            "Epoch 30/100\n",
            "\u001b[1m263/263\u001b[0m \u001b[32m━━━━━━━━━━━━━━━━━━━━\u001b[0m\u001b[37m\u001b[0m \u001b[1m14s\u001b[0m 52ms/step - accuracy: 0.9827 - loss: 0.0785 - val_accuracy: 0.9705 - val_loss: 0.1547\n",
            "Epoch 31/100\n",
            "\u001b[1m263/263\u001b[0m \u001b[32m━━━━━━━━━━━━━━━━━━━━\u001b[0m\u001b[37m\u001b[0m \u001b[1m19s\u001b[0m 45ms/step - accuracy: 0.9843 - loss: 0.0648 - val_accuracy: 0.9710 - val_loss: 0.1753\n",
            "Epoch 32/100\n",
            "\u001b[1m263/263\u001b[0m \u001b[32m━━━━━━━━━━━━━━━━━━━━\u001b[0m\u001b[37m\u001b[0m \u001b[1m23s\u001b[0m 54ms/step - accuracy: 0.9846 - loss: 0.0717 - val_accuracy: 0.9706 - val_loss: 0.2012\n",
            "Epoch 33/100\n",
            "\u001b[1m263/263\u001b[0m \u001b[32m━━━━━━━━━━━━━━━━━━━━\u001b[0m\u001b[37m\u001b[0m \u001b[1m14s\u001b[0m 53ms/step - accuracy: 0.9833 - loss: 0.0738 - val_accuracy: 0.9726 - val_loss: 0.1993\n",
            "Epoch 34/100\n",
            "\u001b[1m263/263\u001b[0m \u001b[32m━━━━━━━━━━━━━━━━━━━━\u001b[0m\u001b[37m\u001b[0m \u001b[1m20s\u001b[0m 53ms/step - accuracy: 0.9807 - loss: 0.0904 - val_accuracy: 0.9751 - val_loss: 0.1463\n",
            "Epoch 35/100\n",
            "\u001b[1m263/263\u001b[0m \u001b[32m━━━━━━━━━━━━━━━━━━━━\u001b[0m\u001b[37m\u001b[0m \u001b[1m20s\u001b[0m 51ms/step - accuracy: 0.9844 - loss: 0.0678 - val_accuracy: 0.9752 - val_loss: 0.1879\n",
            "Epoch 36/100\n",
            "\u001b[1m263/263\u001b[0m \u001b[32m━━━━━━━━━━━━━━━━━━━━\u001b[0m\u001b[37m\u001b[0m \u001b[1m14s\u001b[0m 53ms/step - accuracy: 0.9851 - loss: 0.0681 - val_accuracy: 0.9744 - val_loss: 0.1794\n",
            "Epoch 37/100\n",
            "\u001b[1m263/263\u001b[0m \u001b[32m━━━━━━━━━━━━━━━━━━━━\u001b[0m\u001b[37m\u001b[0m \u001b[1m19s\u001b[0m 49ms/step - accuracy: 0.9860 - loss: 0.0622 - val_accuracy: 0.9776 - val_loss: 0.1516\n",
            "Epoch 38/100\n",
            "\u001b[1m263/263\u001b[0m \u001b[32m━━━━━━━━━━━━━━━━━━━━\u001b[0m\u001b[37m\u001b[0m \u001b[1m22s\u001b[0m 53ms/step - accuracy: 0.9875 - loss: 0.0607 - val_accuracy: 0.9746 - val_loss: 0.1826\n",
            "Epoch 39/100\n",
            "\u001b[1m263/263\u001b[0m \u001b[32m━━━━━━━━━━━━━━━━━━━━\u001b[0m\u001b[37m\u001b[0m \u001b[1m20s\u001b[0m 53ms/step - accuracy: 0.9860 - loss: 0.0710 - val_accuracy: 0.9765 - val_loss: 0.1613\n",
            "Epoch 40/100\n",
            "\u001b[1m263/263\u001b[0m \u001b[32m━━━━━━━━━━━━━━━━━━━━\u001b[0m\u001b[37m\u001b[0m \u001b[1m14s\u001b[0m 53ms/step - accuracy: 0.9870 - loss: 0.0648 - val_accuracy: 0.9789 - val_loss: 0.1704\n",
            "Epoch 41/100\n",
            "\u001b[1m263/263\u001b[0m \u001b[32m━━━━━━━━━━━━━━━━━━━━\u001b[0m\u001b[37m\u001b[0m \u001b[1m20s\u001b[0m 52ms/step - accuracy: 0.9853 - loss: 0.0649 - val_accuracy: 0.9715 - val_loss: 0.1886\n",
            "Epoch 42/100\n",
            "\u001b[1m263/263\u001b[0m \u001b[32m━━━━━━━━━━━━━━━━━━━━\u001b[0m\u001b[37m\u001b[0m \u001b[1m14s\u001b[0m 53ms/step - accuracy: 0.9803 - loss: 0.0993 - val_accuracy: 0.9746 - val_loss: 0.1687\n",
            "Epoch 43/100\n",
            "\u001b[1m263/263\u001b[0m \u001b[32m━━━━━━━━━━━━━━━━━━━━\u001b[0m\u001b[37m\u001b[0m \u001b[1m21s\u001b[0m 54ms/step - accuracy: 0.9827 - loss: 0.0878 - val_accuracy: 0.9754 - val_loss: 0.1385\n",
            "Epoch 44/100\n",
            "\u001b[1m263/263\u001b[0m \u001b[32m━━━━━━━━━━━━━━━━━━━━\u001b[0m\u001b[37m\u001b[0m \u001b[1m14s\u001b[0m 53ms/step - accuracy: 0.9874 - loss: 0.0635 - val_accuracy: 0.9752 - val_loss: 0.2048\n",
            "Epoch 45/100\n",
            "\u001b[1m263/263\u001b[0m \u001b[32m━━━━━━━━━━━━━━━━━━━━\u001b[0m\u001b[37m\u001b[0m \u001b[1m20s\u001b[0m 52ms/step - accuracy: 0.9878 - loss: 0.0664 - val_accuracy: 0.9744 - val_loss: 0.1933\n",
            "Epoch 46/100\n",
            "\u001b[1m263/263\u001b[0m \u001b[32m━━━━━━━━━━━━━━━━━━━━\u001b[0m\u001b[37m\u001b[0m \u001b[1m14s\u001b[0m 54ms/step - accuracy: 0.9888 - loss: 0.0538 - val_accuracy: 0.9761 - val_loss: 0.1944\n",
            "Epoch 47/100\n",
            "\u001b[1m263/263\u001b[0m \u001b[32m━━━━━━━━━━━━━━━━━━━━\u001b[0m\u001b[37m\u001b[0m \u001b[1m20s\u001b[0m 52ms/step - accuracy: 0.9901 - loss: 0.0430 - val_accuracy: 0.9770 - val_loss: 0.1935\n",
            "Epoch 48/100\n",
            "\u001b[1m263/263\u001b[0m \u001b[32m━━━━━━━━━━━━━━━━━━━━\u001b[0m\u001b[37m\u001b[0m \u001b[1m19s\u001b[0m 48ms/step - accuracy: 0.9866 - loss: 0.0651 - val_accuracy: 0.9751 - val_loss: 0.2485\n",
            "Epoch 49/100\n",
            "\u001b[1m263/263\u001b[0m \u001b[32m━━━━━━━━━━━━━━━━━━━━\u001b[0m\u001b[37m\u001b[0m \u001b[1m12s\u001b[0m 47ms/step - accuracy: 0.9875 - loss: 0.0593 - val_accuracy: 0.9769 - val_loss: 0.1995\n",
            "Epoch 50/100\n",
            "\u001b[1m263/263\u001b[0m \u001b[32m━━━━━━━━━━━━━━━━━━━━\u001b[0m\u001b[37m\u001b[0m \u001b[1m22s\u001b[0m 53ms/step - accuracy: 0.9842 - loss: 0.0854 - val_accuracy: 0.9746 - val_loss: 0.1840\n",
            "Epoch 51/100\n",
            "\u001b[1m263/263\u001b[0m \u001b[32m━━━━━━━━━━━━━━━━━━━━\u001b[0m\u001b[37m\u001b[0m \u001b[1m13s\u001b[0m 50ms/step - accuracy: 0.9846 - loss: 0.0786 - val_accuracy: 0.9725 - val_loss: 0.2381\n",
            "Epoch 52/100\n",
            "\u001b[1m263/263\u001b[0m \u001b[32m━━━━━━━━━━━━━━━━━━━━\u001b[0m\u001b[37m\u001b[0m \u001b[1m12s\u001b[0m 47ms/step - accuracy: 0.9872 - loss: 0.0691 - val_accuracy: 0.9751 - val_loss: 0.2451\n",
            "Epoch 53/100\n",
            "\u001b[1m263/263\u001b[0m \u001b[32m━━━━━━━━━━━━━━━━━━━━\u001b[0m\u001b[37m\u001b[0m \u001b[1m22s\u001b[0m 52ms/step - accuracy: 0.9877 - loss: 0.0597 - val_accuracy: 0.9730 - val_loss: 0.2096\n",
            "Epoch 54/100\n",
            "\u001b[1m263/263\u001b[0m \u001b[32m━━━━━━━━━━━━━━━━━━━━\u001b[0m\u001b[37m\u001b[0m \u001b[1m14s\u001b[0m 52ms/step - accuracy: 0.9840 - loss: 0.0902 - val_accuracy: 0.9756 - val_loss: 0.2072\n",
            "Epoch 55/100\n",
            "\u001b[1m263/263\u001b[0m \u001b[32m━━━━━━━━━━━━━━━━━━━━\u001b[0m\u001b[37m\u001b[0m \u001b[1m12s\u001b[0m 45ms/step - accuracy: 0.9856 - loss: 0.0843 - val_accuracy: 0.9760 - val_loss: 0.1917\n",
            "Epoch 56/100\n",
            "\u001b[1m263/263\u001b[0m \u001b[32m━━━━━━━━━━━━━━━━━━━━\u001b[0m\u001b[37m\u001b[0m \u001b[1m23s\u001b[0m 54ms/step - accuracy: 0.9868 - loss: 0.0621 - val_accuracy: 0.9770 - val_loss: 0.1795\n",
            "Epoch 57/100\n",
            "\u001b[1m263/263\u001b[0m \u001b[32m━━━━━━━━━━━━━━━━━━━━\u001b[0m\u001b[37m\u001b[0m \u001b[1m14s\u001b[0m 53ms/step - accuracy: 0.9900 - loss: 0.0628 - val_accuracy: 0.9790 - val_loss: 0.1798\n",
            "Epoch 58/100\n",
            "\u001b[1m263/263\u001b[0m \u001b[32m━━━━━━━━━━━━━━━━━━━━\u001b[0m\u001b[37m\u001b[0m \u001b[1m12s\u001b[0m 46ms/step - accuracy: 0.9922 - loss: 0.0373 - val_accuracy: 0.9783 - val_loss: 0.2134\n",
            "Epoch 59/100\n",
            "\u001b[1m263/263\u001b[0m \u001b[32m━━━━━━━━━━━━━━━━━━━━\u001b[0m\u001b[37m\u001b[0m \u001b[1m23s\u001b[0m 56ms/step - accuracy: 0.9892 - loss: 0.0498 - val_accuracy: 0.9717 - val_loss: 0.2335\n",
            "Epoch 60/100\n",
            "\u001b[1m263/263\u001b[0m \u001b[32m━━━━━━━━━━━━━━━━━━━━\u001b[0m\u001b[37m\u001b[0m \u001b[1m14s\u001b[0m 53ms/step - accuracy: 0.9861 - loss: 0.0737 - val_accuracy: 0.9743 - val_loss: 0.2455\n",
            "Epoch 61/100\n",
            "\u001b[1m263/263\u001b[0m \u001b[32m━━━━━━━━━━━━━━━━━━━━\u001b[0m\u001b[37m\u001b[0m \u001b[1m21s\u001b[0m 53ms/step - accuracy: 0.9873 - loss: 0.0671 - val_accuracy: 0.9786 - val_loss: 0.2287\n",
            "Epoch 62/100\n",
            "\u001b[1m263/263\u001b[0m \u001b[32m━━━━━━━━━━━━━━━━━━━━\u001b[0m\u001b[37m\u001b[0m \u001b[1m14s\u001b[0m 53ms/step - accuracy: 0.9873 - loss: 0.0701 - val_accuracy: 0.9770 - val_loss: 0.1880\n",
            "Epoch 63/100\n",
            "\u001b[1m263/263\u001b[0m \u001b[32m━━━━━━━━━━━━━━━━━━━━\u001b[0m\u001b[37m\u001b[0m \u001b[1m14s\u001b[0m 53ms/step - accuracy: 0.9878 - loss: 0.0572 - val_accuracy: 0.9779 - val_loss: 0.2908\n",
            "Epoch 64/100\n",
            "\u001b[1m263/263\u001b[0m \u001b[32m━━━━━━━━━━━━━━━━━━━━\u001b[0m\u001b[37m\u001b[0m \u001b[1m21s\u001b[0m 53ms/step - accuracy: 0.9871 - loss: 0.0802 - val_accuracy: 0.9777 - val_loss: 0.1726\n",
            "Epoch 65/100\n",
            "\u001b[1m263/263\u001b[0m \u001b[32m━━━━━━━━━━━━━━━━━━━━\u001b[0m\u001b[37m\u001b[0m \u001b[1m20s\u001b[0m 52ms/step - accuracy: 0.9886 - loss: 0.0515 - val_accuracy: 0.9780 - val_loss: 0.2328\n",
            "Epoch 66/100\n",
            "\u001b[1m263/263\u001b[0m \u001b[32m━━━━━━━━━━━━━━━━━━━━\u001b[0m\u001b[37m\u001b[0m \u001b[1m20s\u001b[0m 50ms/step - accuracy: 0.9869 - loss: 0.0712 - val_accuracy: 0.9767 - val_loss: 0.1842\n",
            "Epoch 67/100\n",
            "\u001b[1m263/263\u001b[0m \u001b[32m━━━━━━━━━━━━━━━━━━━━\u001b[0m\u001b[37m\u001b[0m \u001b[1m12s\u001b[0m 46ms/step - accuracy: 0.9837 - loss: 0.1007 - val_accuracy: 0.9745 - val_loss: 0.2151\n",
            "Epoch 68/100\n",
            "\u001b[1m263/263\u001b[0m \u001b[32m━━━━━━━━━━━━━━━━━━━━\u001b[0m\u001b[37m\u001b[0m \u001b[1m22s\u001b[0m 53ms/step - accuracy: 0.9821 - loss: 0.1022 - val_accuracy: 0.9762 - val_loss: 0.3124\n",
            "Epoch 69/100\n",
            "\u001b[1m263/263\u001b[0m \u001b[32m━━━━━━━━━━━━━━━━━━━━\u001b[0m\u001b[37m\u001b[0m \u001b[1m13s\u001b[0m 50ms/step - accuracy: 0.9870 - loss: 0.0657 - val_accuracy: 0.9746 - val_loss: 0.2815\n",
            "Epoch 70/100\n",
            "\u001b[1m263/263\u001b[0m \u001b[32m━━━━━━━━━━━━━━━━━━━━\u001b[0m\u001b[37m\u001b[0m \u001b[1m12s\u001b[0m 47ms/step - accuracy: 0.9822 - loss: 0.1092 - val_accuracy: 0.9781 - val_loss: 0.2509\n",
            "Epoch 71/100\n",
            "\u001b[1m263/263\u001b[0m \u001b[32m━━━━━━━━━━━━━━━━━━━━\u001b[0m\u001b[37m\u001b[0m \u001b[1m22s\u001b[0m 53ms/step - accuracy: 0.9895 - loss: 0.0443 - val_accuracy: 0.9786 - val_loss: 0.2677\n",
            "Epoch 72/100\n",
            "\u001b[1m263/263\u001b[0m \u001b[32m━━━━━━━━━━━━━━━━━━━━\u001b[0m\u001b[37m\u001b[0m \u001b[1m20s\u001b[0m 52ms/step - accuracy: 0.9913 - loss: 0.0488 - val_accuracy: 0.9785 - val_loss: 0.2627\n",
            "Epoch 73/100\n",
            "\u001b[1m263/263\u001b[0m \u001b[32m━━━━━━━━━━━━━━━━━━━━\u001b[0m\u001b[37m\u001b[0m \u001b[1m19s\u001b[0m 45ms/step - accuracy: 0.9900 - loss: 0.0538 - val_accuracy: 0.9781 - val_loss: 0.2587\n",
            "Epoch 74/100\n",
            "\u001b[1m263/263\u001b[0m \u001b[32m━━━━━━━━━━━━━━━━━━━━\u001b[0m\u001b[37m\u001b[0m \u001b[1m13s\u001b[0m 49ms/step - accuracy: 0.9896 - loss: 0.0570 - val_accuracy: 0.9760 - val_loss: 0.2543\n",
            "Epoch 75/100\n",
            "\u001b[1m263/263\u001b[0m \u001b[32m━━━━━━━━━━━━━━━━━━━━\u001b[0m\u001b[37m\u001b[0m \u001b[1m21s\u001b[0m 52ms/step - accuracy: 0.9886 - loss: 0.0648 - val_accuracy: 0.9793 - val_loss: 0.2274\n",
            "Epoch 76/100\n",
            "\u001b[1m263/263\u001b[0m \u001b[32m━━━━━━━━━━━━━━━━━━━━\u001b[0m\u001b[37m\u001b[0m \u001b[1m21s\u001b[0m 54ms/step - accuracy: 0.9875 - loss: 0.0600 - val_accuracy: 0.9783 - val_loss: 0.2653\n",
            "Epoch 77/100\n",
            "\u001b[1m263/263\u001b[0m \u001b[32m━━━━━━━━━━━━━━━━━━━━\u001b[0m\u001b[37m\u001b[0m \u001b[1m14s\u001b[0m 53ms/step - accuracy: 0.9888 - loss: 0.0558 - val_accuracy: 0.9776 - val_loss: 0.2490\n",
            "Epoch 78/100\n",
            "\u001b[1m263/263\u001b[0m \u001b[32m━━━━━━━━━━━━━━━━━━━━\u001b[0m\u001b[37m\u001b[0m \u001b[1m21s\u001b[0m 53ms/step - accuracy: 0.9898 - loss: 0.0499 - val_accuracy: 0.9755 - val_loss: 0.2566\n",
            "Epoch 79/100\n",
            "\u001b[1m263/263\u001b[0m \u001b[32m━━━━━━━━━━━━━━━━━━━━\u001b[0m\u001b[37m\u001b[0m \u001b[1m20s\u001b[0m 51ms/step - accuracy: 0.9863 - loss: 0.0691 - val_accuracy: 0.9764 - val_loss: 0.3102\n",
            "Epoch 80/100\n",
            "\u001b[1m263/263\u001b[0m \u001b[32m━━━━━━━━━━━━━━━━━━━━\u001b[0m\u001b[37m\u001b[0m \u001b[1m20s\u001b[0m 49ms/step - accuracy: 0.9880 - loss: 0.0702 - val_accuracy: 0.9769 - val_loss: 0.2924\n",
            "Epoch 81/100\n",
            "\u001b[1m263/263\u001b[0m \u001b[32m━━━━━━━━━━━━━━━━━━━━\u001b[0m\u001b[37m\u001b[0m \u001b[1m22s\u001b[0m 54ms/step - accuracy: 0.9918 - loss: 0.0436 - val_accuracy: 0.9764 - val_loss: 0.3033\n",
            "Epoch 82/100\n",
            "\u001b[1m263/263\u001b[0m \u001b[32m━━━━━━━━━━━━━━━━━━━━\u001b[0m\u001b[37m\u001b[0m \u001b[1m20s\u001b[0m 53ms/step - accuracy: 0.9845 - loss: 0.1036 - val_accuracy: 0.9748 - val_loss: 0.3366\n",
            "Epoch 83/100\n",
            "\u001b[1m263/263\u001b[0m \u001b[32m━━━━━━━━━━━━━━━━━━━━\u001b[0m\u001b[37m\u001b[0m \u001b[1m18s\u001b[0m 45ms/step - accuracy: 0.9878 - loss: 0.0670 - val_accuracy: 0.9773 - val_loss: 0.2987\n",
            "Epoch 84/100\n",
            "\u001b[1m263/263\u001b[0m \u001b[32m━━━━━━━━━━━━━━━━━━━━\u001b[0m\u001b[37m\u001b[0m \u001b[1m14s\u001b[0m 52ms/step - accuracy: 0.9884 - loss: 0.0795 - val_accuracy: 0.9789 - val_loss: 0.3417\n",
            "Epoch 85/100\n",
            "\u001b[1m263/263\u001b[0m \u001b[32m━━━━━━━━━━━━━━━━━━━━\u001b[0m\u001b[37m\u001b[0m \u001b[1m20s\u001b[0m 49ms/step - accuracy: 0.9897 - loss: 0.0563 - val_accuracy: 0.9738 - val_loss: 0.2704\n",
            "Epoch 86/100\n",
            "\u001b[1m263/263\u001b[0m \u001b[32m━━━━━━━━━━━━━━━━━━━━\u001b[0m\u001b[37m\u001b[0m \u001b[1m22s\u001b[0m 54ms/step - accuracy: 0.9861 - loss: 0.0754 - val_accuracy: 0.9790 - val_loss: 0.2592\n",
            "Epoch 87/100\n",
            "\u001b[1m263/263\u001b[0m \u001b[32m━━━━━━━━━━━━━━━━━━━━\u001b[0m\u001b[37m\u001b[0m \u001b[1m20s\u001b[0m 53ms/step - accuracy: 0.9879 - loss: 0.0710 - val_accuracy: 0.9777 - val_loss: 0.2927\n",
            "Epoch 88/100\n",
            "\u001b[1m263/263\u001b[0m \u001b[32m━━━━━━━━━━━━━━━━━━━━\u001b[0m\u001b[37m\u001b[0m \u001b[1m14s\u001b[0m 53ms/step - accuracy: 0.9903 - loss: 0.0521 - val_accuracy: 0.9787 - val_loss: 0.3405\n",
            "Epoch 89/100\n",
            "\u001b[1m263/263\u001b[0m \u001b[32m━━━━━━━━━━━━━━━━━━━━\u001b[0m\u001b[37m\u001b[0m \u001b[1m14s\u001b[0m 53ms/step - accuracy: 0.9889 - loss: 0.0536 - val_accuracy: 0.9799 - val_loss: 0.2586\n",
            "Epoch 90/100\n",
            "\u001b[1m263/263\u001b[0m \u001b[32m━━━━━━━━━━━━━━━━━━━━\u001b[0m\u001b[37m\u001b[0m \u001b[1m13s\u001b[0m 49ms/step - accuracy: 0.9880 - loss: 0.0695 - val_accuracy: 0.9781 - val_loss: 0.3253\n",
            "Epoch 91/100\n",
            "\u001b[1m263/263\u001b[0m \u001b[32m━━━━━━━━━━━━━━━━━━━━\u001b[0m\u001b[37m\u001b[0m \u001b[1m12s\u001b[0m 47ms/step - accuracy: 0.9898 - loss: 0.0660 - val_accuracy: 0.9782 - val_loss: 0.2413\n",
            "Epoch 92/100\n",
            "\u001b[1m263/263\u001b[0m \u001b[32m━━━━━━━━━━━━━━━━━━━━\u001b[0m\u001b[37m\u001b[0m \u001b[1m14s\u001b[0m 54ms/step - accuracy: 0.9902 - loss: 0.0503 - val_accuracy: 0.9762 - val_loss: 0.2991\n",
            "Epoch 93/100\n",
            "\u001b[1m263/263\u001b[0m \u001b[32m━━━━━━━━━━━━━━━━━━━━\u001b[0m\u001b[37m\u001b[0m \u001b[1m19s\u001b[0m 46ms/step - accuracy: 0.9916 - loss: 0.0567 - val_accuracy: 0.9754 - val_loss: 0.5751\n",
            "Epoch 94/100\n",
            "\u001b[1m263/263\u001b[0m \u001b[32m━━━━━━━━━━━━━━━━━━━━\u001b[0m\u001b[37m\u001b[0m \u001b[1m13s\u001b[0m 50ms/step - accuracy: 0.9884 - loss: 0.0674 - val_accuracy: 0.9767 - val_loss: 0.4332\n",
            "Epoch 95/100\n",
            "\u001b[1m263/263\u001b[0m \u001b[32m━━━━━━━━━━━━━━━━━━━━\u001b[0m\u001b[37m\u001b[0m \u001b[1m14s\u001b[0m 53ms/step - accuracy: 0.9835 - loss: 0.0858 - val_accuracy: 0.9783 - val_loss: 0.4625\n",
            "Epoch 96/100\n",
            "\u001b[1m263/263\u001b[0m \u001b[32m━━━━━━━━━━━━━━━━━━━━\u001b[0m\u001b[37m\u001b[0m \u001b[1m19s\u001b[0m 46ms/step - accuracy: 0.9911 - loss: 0.0496 - val_accuracy: 0.9780 - val_loss: 0.2837\n",
            "Epoch 97/100\n",
            "\u001b[1m263/263\u001b[0m \u001b[32m━━━━━━━━━━━━━━━━━━━━\u001b[0m\u001b[37m\u001b[0m \u001b[1m22s\u001b[0m 54ms/step - accuracy: 0.9894 - loss: 0.0687 - val_accuracy: 0.9754 - val_loss: 0.4532\n",
            "Epoch 98/100\n",
            "\u001b[1m263/263\u001b[0m \u001b[32m━━━━━━━━━━━━━━━━━━━━\u001b[0m\u001b[37m\u001b[0m \u001b[1m20s\u001b[0m 54ms/step - accuracy: 0.9829 - loss: 0.0949 - val_accuracy: 0.9782 - val_loss: 0.3689\n",
            "Epoch 99/100\n",
            "\u001b[1m263/263\u001b[0m \u001b[32m━━━━━━━━━━━━━━━━━━━━\u001b[0m\u001b[37m\u001b[0m \u001b[1m19s\u001b[0m 48ms/step - accuracy: 0.9870 - loss: 0.1056 - val_accuracy: 0.9787 - val_loss: 0.3737\n",
            "Epoch 100/100\n",
            "\u001b[1m263/263\u001b[0m \u001b[32m━━━━━━━━━━━━━━━━━━━━\u001b[0m\u001b[37m\u001b[0m \u001b[1m22s\u001b[0m 53ms/step - accuracy: 0.9888 - loss: 0.0548 - val_accuracy: 0.9788 - val_loss: 0.3145\n"
          ]
        }
      ]
    },
    {
      "cell_type": "code",
      "source": [
        "hist.history.keys()"
      ],
      "metadata": {
        "colab": {
          "base_uri": "https://localhost:8080/"
        },
        "id": "S2zB2b4jY0P4",
        "outputId": "0f4645b2-f0df-4904-ba6e-6afbedc77847"
      },
      "execution_count": null,
      "outputs": [
        {
          "output_type": "execute_result",
          "data": {
            "text/plain": [
              "dict_keys(['accuracy', 'loss', 'val_accuracy', 'val_loss'])"
            ]
          },
          "metadata": {},
          "execution_count": 51
        }
      ]
    },
    {
      "cell_type": "code",
      "source": [
        "plt.plot(hist.history['accuracy'])\n",
        "plt.plot(hist.history['val_accuracy'])\n",
        "plt.title('Model Accuracy')\n",
        "plt.ylabel('Accuracy')\n",
        "plt.xlabel('Epoch')\n",
        "plt.legend(['Train', 'Validation'], loc='upper left')\n",
        "plt.show()"
      ],
      "metadata": {
        "colab": {
          "base_uri": "https://localhost:8080/",
          "height": 472
        },
        "id": "brfw-C02bXkY",
        "outputId": "0e9a564f-597c-4f43-d3fc-39fad5b050ac"
      },
      "execution_count": null,
      "outputs": [
        {
          "output_type": "display_data",
          "data": {
            "text/plain": [
              "<Figure size 640x480 with 1 Axes>"
            ],
            "image/png": "[encoded data removed]"
          },
          "metadata": {}
        }
      ]
    },
    {
      "cell_type": "code",
      "source": [
        "plt.plot(hist.history['loss'])\n",
        "plt.plot(hist.history['val_loss'])\n",
        "plt.title('Model Loss')\n",
        "plt.ylabel('Loss')\n",
        "plt.xlabel('Epoch')\n",
        "plt.legend(['Train', 'Validation'], loc='upper right')\n",
        "plt.show()"
      ],
      "metadata": {
        "colab": {
          "base_uri": "https://localhost:8080/",
          "height": 472
        },
        "id": "cwPQYz97bQ-3",
        "outputId": "ebd119c4-f79e-43fc-d623-d8a811581a79"
      },
      "execution_count": null,
      "outputs": [
        {
          "output_type": "display_data",
          "data": {
            "text/plain": [
              "<Figure size 640x480 with 1 Axes>"
            ],
            "image/png": "[encoded data removed]"
          },
          "metadata": {}
        }
      ]
    },
    {
      "cell_type": "markdown",
      "source": [
        "Model Evaluation\n",
        "\n",
        "y_hat_train_dense = model.predict(x_train)<br>\n",
        "y_hat_test_dense = model.predict(x_test)"
      ],
      "metadata": {
        "id": "lxmrpgoidwd3"
      }
    },
    {
      "cell_type": "code",
      "source": [
        "y_hat_train_dense = np.argmax(model.predict(x_train), axis=1)\n",
        "y_hat_test_dense = np.argmax(model.predict(x_test), axis=1)"
      ],
      "metadata": {
        "colab": {
          "base_uri": "https://localhost:8080/"
        },
        "id": "KZ5ayvJNdDdX",
        "outputId": "fc3dc346-dd28-4179-8e25-f4a83ea6dfdf"
      },
      "execution_count": null,
      "outputs": [
        {
          "output_type": "stream",
          "name": "stdout",
          "text": [
            "\u001b[1m1050/1050\u001b[0m \u001b[32m━━━━━━━━━━━━━━━━━━━━\u001b[0m\u001b[37m\u001b[0m \u001b[1m6s\u001b[0m 5ms/step\n",
            "\u001b[1m263/263\u001b[0m \u001b[32m━━━━━━━━━━━━━━━━━━━━\u001b[0m\u001b[37m\u001b[0m \u001b[1m2s\u001b[0m 9ms/step\n"
          ]
        }
      ]
    },
    {
      "cell_type": "code",
      "source": [
        "model_eval(actual=y_train, predicted=y_hat_train_dense)"
      ],
      "metadata": {
        "colab": {
          "base_uri": "https://localhost:8080/"
        },
        "id": "2qHGd54ednYE",
        "outputId": "e1554d40-4bba-4d17-902c-8cef1ac5cb48"
      },
      "execution_count": null,
      "outputs": [
        {
          "output_type": "stream",
          "name": "stdout",
          "text": [
            "The Accuracy of the Model is: 1.0\n",
            "[[3329    0    0    0    0    0    0    0    7    0]\n",
            " [   0 3736    0    0    0    0    0    0    2    0]\n",
            " [   0    0 3315    1    0    0    0    2    3    0]\n",
            " [   0    0    0 3485    0    1    0    0    8    1]\n",
            " [   0    0    0    0 3243    0    1    1    0    1]\n",
            " [   0    0    0    1    0 3016    0    0    4    1]\n",
            " [   0    0    0    0    0    0 3350    0    0    0]\n",
            " [   0    0    0    0    0    0    0 3532    0    0]\n",
            " [   1    0    0    1    1    2    1    0 3220    1]\n",
            " [   0    0    0    0   11    0    0    4    3 3315]]\n",
            "              precision    recall  f1-score   support\n",
            "\n",
            "           0       1.00      1.00      1.00      3336\n",
            "           1       1.00      1.00      1.00      3738\n",
            "           2       1.00      1.00      1.00      3321\n",
            "           3       1.00      1.00      1.00      3495\n",
            "           4       1.00      1.00      1.00      3246\n",
            "           5       1.00      1.00      1.00      3022\n",
            "           6       1.00      1.00      1.00      3350\n",
            "           7       1.00      1.00      1.00      3532\n",
            "           8       0.99      1.00      0.99      3227\n",
            "           9       1.00      0.99      1.00      3333\n",
            "\n",
            "    accuracy                           1.00     33600\n",
            "   macro avg       1.00      1.00      1.00     33600\n",
            "weighted avg       1.00      1.00      1.00     33600\n",
            "\n"
          ]
        }
      ]
    },
    {
      "cell_type": "code",
      "source": [
        "model_eval(actual=y_test, predicted=y_hat_test_dense)"
      ],
      "metadata": {
        "colab": {
          "base_uri": "https://localhost:8080/"
        },
        "id": "ddz8b3OueIQe",
        "outputId": "87e46185-7961-457b-fd16-8042ed22744d"
      },
      "execution_count": null,
      "outputs": [
        {
          "output_type": "stream",
          "name": "stdout",
          "text": [
            "The Accuracy of the Model is: 0.98\n",
            "[[780   0   2   0   1   0   4   0   8   1]\n",
            " [  0 935   1   2   2   0   0   3   3   0]\n",
            " [  0   2 839   1   3   0   0   5   6   0]\n",
            " [  1   0   2 840   0   5   0   2   6   0]\n",
            " [  0   1   0   0 819   0   2   0   3   1]\n",
            " [  2   0   0   7   0 748   7   0   8   1]\n",
            " [  3   1   0   0   2   1 777   0   3   0]\n",
            " [  1   0   8   1   2   1   0 853   2   1]\n",
            " [  0   8   1   2   1   4   4   3 805   8]\n",
            " [  1   0   0   2  10   1   0  10   5 826]]\n",
            "              precision    recall  f1-score   support\n",
            "\n",
            "           0       0.99      0.98      0.98       796\n",
            "           1       0.99      0.99      0.99       946\n",
            "           2       0.98      0.98      0.98       856\n",
            "           3       0.98      0.98      0.98       856\n",
            "           4       0.97      0.99      0.98       826\n",
            "           5       0.98      0.97      0.98       773\n",
            "           6       0.98      0.99      0.98       787\n",
            "           7       0.97      0.98      0.98       869\n",
            "           8       0.95      0.96      0.96       836\n",
            "           9       0.99      0.97      0.98       855\n",
            "\n",
            "    accuracy                           0.98      8400\n",
            "   macro avg       0.98      0.98      0.98      8400\n",
            "weighted avg       0.98      0.98      0.98      8400\n",
            "\n"
          ]
        }
      ]
    }
  ],
  "metadata": {
    "colab": {
      "provenance": [],
      "collapsed_sections": [
        "qPKLBoD7mY-S",
        "8KcfYTaDmGK7",
        "YWb611-gstP0",
        "Xokk0F9Xsw6A",
        "pMO2MyBj6jhE",
        "Bb6RuXlQ6bRi",
        "Ya6OHz9J7Sat",
        "lvwFpAmJ3ijl",
        "0cylhMAkXBWW"
      ],
      "include_colab_link": true
    },
    "kernelspec": {
      "display_name": "Python 3",
      "name": "python3"
    },
    "language_info": {
      "name": "python"
    }
  },
  "nbformat": 4,
  "nbformat_minor": 0
}